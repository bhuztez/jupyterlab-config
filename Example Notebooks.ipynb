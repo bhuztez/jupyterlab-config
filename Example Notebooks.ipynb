{
 "cells": [
  {
   "cell_type": "markdown",
   "metadata": {},
   "source": [
    "# Example Notebooks\n",
    "\n",
    "## MIT OCW Mathematics Courses\n",
    "\n",
    "* [18.01SC Single Variable Calculus (Fall 2010)](18.01SC-2010Fall/README.ipynb)([View Course](https://ocw.mit.edu/courses/mathematics/18-01sc-single-variable-calculus-fall-2010/))"
   ]
  }
 ],
 "metadata": {
  "kernelspec": {
   "display_name": "Python 3",
   "language": "python",
   "name": "python3"
  },
  "language_info": {
   "codemirror_mode": {
    "name": "ipython",
    "version": 3
   },
   "file_extension": ".py",
   "mimetype": "text/x-python",
   "name": "python",
   "nbconvert_exporter": "python",
   "pygments_lexer": "ipython3",
   "version": "3.6.3"
  }
 },
 "nbformat": 4,
 "nbformat_minor": 2
}
