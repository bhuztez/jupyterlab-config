{
 "cells": [
  {
   "cell_type": "markdown",
   "metadata": {},
   "source": [
    "## Limit"
   ]
  },
  {
   "cell_type": "markdown",
   "metadata": {},
   "source": [
    "$$\\lim_{x \\to 0} f(x)$$\n",
    "\n",
    "问题是这个形式没有指明方向"
   ]
  },
  {
   "cell_type": "markdown",
   "metadata": {},
   "source": [
    "## Derivative"
   ]
  },
  {
   "cell_type": "markdown",
   "metadata": {},
   "source": [
    "### 定义\n",
    "\n",
    "$$f'(x) = \\lim_{\\Delta x \\to 0}\\frac{f(x + \\Delta x) - f(x)}{\\Delta x}$$"
   ]
  },
  {
   "cell_type": "markdown",
   "metadata": {},
   "source": [
    "### 常数\n",
    "\n",
    "令 $f(x) = C$\n",
    "\n",
    "$$f'(x) = \\lim_{\\Delta x \\to 0}\\frac{0}{\\Delta x} = 0$$"
   ]
  },
  {
   "cell_type": "markdown",
   "metadata": {},
   "source": [
    "### 复合\n",
    "\n",
    "令 $f(x) = u(v(x))$\n",
    "\n",
    "$$f'(x) = \\lim_{\\Delta x \\to 0}\\frac{u(v(x + \\Delta x)) - u(v(x))}{\\Delta x}$$\n",
    "\n",
    "$$= \\lim_{\\Delta x \\to 0}\\frac{u(v(x + \\Delta x)) - u(v(x))}{v(x+\\Delta x) - v(x)} \\cdot \\frac{v(x+\\Delta x) - v(x)}{\\Delta x}$$\n",
    "\n",
    "$$= u'(v(x)) \\cdot v'(x)$$\n",
    "\n",
    "缺少u'(v(x))的证明"
   ]
  },
  {
   "cell_type": "markdown",
   "metadata": {},
   "source": [
    "### 多目?\n",
    "\n",
    "令 $f(x) = u(x) \\circ v(x)$\n",
    "\n",
    "$$f'(x) = \\lim_{\\Delta x \\to 0} \\frac{u(x+\\Delta x) \\circ v(x+\\Delta x) - u(x) \\circ v(x)}{\\Delta x}$$\n",
    "\n",
    "$$= \\lim_{\\Delta x \\to 0} \\frac{u(x+\\Delta x) \\circ v(x+\\Delta x) - u(x) \\circ v(x+\\Delta x) + u(x) \\circ v(x+\\Delta x) - u(x) \\circ v(x)}{\\Delta x}$$\n",
    "\n",
    "$$= \\lim_{\\Delta x \\to 0} \\frac{u(x+\\Delta x) \\circ v(x+\\Delta x) - u(x) \\circ v(x+\\Delta x)}{\\Delta x} + \\lim_{\\Delta x \\to 0} \\frac{u(x) \\circ v(x+\\Delta x) - u(x) \\circ v(x)}{\\Delta x}$$\n",
    "\n",
    "$$= \\circ_L'(u(x), v(x)) \\cdot u'(x) + \\circ_R'(u(x), v(x)) \\cdot v'(x)$$\n",
    "\n",
    "需要更合理的符号"
   ]
  },
  {
   "cell_type": "markdown",
   "metadata": {},
   "source": [
    "### 加法\n",
    "\n",
    "令 $f(x) = x + C$\n",
    "\n",
    "$$f'(x) = \\lim_{\\Delta x \\to 0}\\frac{x + \\Delta x + C - x - C}{\\Delta x} = 1$$\n",
    "\n",
    "所以\n",
    "\n",
    "$$f(x) = u(x) + v(x)$$\n",
    "\n",
    "$$f'(x) = u'(x) + v'(x)$$"
   ]
  },
  {
   "cell_type": "markdown",
   "metadata": {},
   "source": [
    "### 乘法\n",
    "\n",
    "令 $f(x) = x \\cdot C$\n",
    "\n",
    "$$f'(x) = \\lim_{\\Delta x \\to 0}\\frac{(x + \\Delta x) \\cdot C - x \\cdot C}{\\Delta x} = C$$\n",
    "\n",
    "所以\n",
    "\n",
    "$$f(x) = u(x) \\cdot v(x)$$\n",
    "\n",
    "$$f'(x) = u'(x) \\cdot v(x) + v'(x) \\cdot u(x)$$"
   ]
  },
  {
   "cell_type": "markdown",
   "metadata": {},
   "source": [
    "### 减法\n",
    "\n",
    "令 $f(x) = u(x) - v(x)$\n",
    "\n",
    "$$f(x) = u(x) - v(x) = u(x) + -1 \\cdot v(x)$$\n",
    "\n",
    "$$f'(x) = u'(x) - v'(x)$$"
   ]
  },
  {
   "cell_type": "markdown",
   "metadata": {},
   "source": [
    "### 除法\n",
    "\n",
    "令 $f(x) = \\frac{x}{C}$\n",
    "\n",
    "$$f(x) = x \\cdot \\frac{1}{C}$$\n",
    "\n",
    "$$f'(x) = \\frac{1}{C}$$\n",
    "\n",
    "令 $f(x) = \\frac{C}{x}$\n",
    "\n",
    "$$f'(x) = \\lim_{\\Delta x \\to 0}\\frac{\\frac{C}{x + \\Delta x} - \\frac{C}{x}}{\\Delta x}$$\n",
    "\n",
    "$$= C \\cdot \\lim_{\\Delta x \\to 0} \\frac{x - x - \\Delta x}{\\Delta x} \\cdot \\frac{1}{x(x+\\Delta x)}$$\n",
    "\n",
    "$$= \\frac{-C}{x^2}$$\n",
    "\n",
    "所以\n",
    "\n",
    "$$f(x) = \\frac{u(x)}{v(x)}$$\n",
    "\n",
    "$$f'(x) = \\frac{u'(x) \\cdot v(x) - v'(x) \\cdot u(x)}{v(x)^2}$$"
   ]
  },
  {
   "cell_type": "markdown",
   "metadata": {},
   "source": [
    "### sin\n",
    "\n",
    "令 $f(x) = \\sin x$\n",
    "\n",
    "$$\\sin(a+b) = \\sin a \\cos b + \\cos a \\sin b$$\n",
    "\n",
    "$$f'(x) = \\lim_{\\Delta x \\to 0}\\frac{\\sin(x + \\Delta x) - \\sin x}{\\Delta x}$$\n",
    "\n",
    "$$= \\lim_{\\Delta x \\to 0}\\frac{\\sin x \\cos \\Delta x + \\cos x \\sin \\Delta x - \\sin x}{\\Delta x}$$\n",
    "\n",
    "$$= \\sin x \\lim_{\\Delta x \\to 0} \\frac{\\cos \\Delta x - 1}{\\Delta x} + \\cos x \\lim_{\\Delta x \\to 0} \\frac{\\sin \\Delta x}{\\Delta x}$$\n",
    "\n",
    "$$= \\sin x \\lim_{\\Delta x \\to 0} \\frac{\\cos (0 + \\Delta x) - \\cos 0}{\\Delta x} + \\cos x \\lim_{\\Delta x \\to 0} \\frac{\\sin (0 + \\Delta x) - \\sin 0}{\\Delta x}$$\n",
    "\n",
    "$$= \\sin x \\cos' 0 + \\cos x \\sin' 0$$\n",
    "\n",
    "需要证明 $\\sin'0 = 1$， $\\cos'0 = 0$"
   ]
  },
  {
   "cell_type": "markdown",
   "metadata": {},
   "source": [
    "### 指数\n",
    "\n",
    "令 $f(x) = C^x$\n",
    "\n",
    "$$f'(x) = \\lim_{\\Delta x \\to 0}\\frac{C^{x + \\Delta x} - C^x}{\\Delta x}$$\n",
    "\n",
    "$$f'(x) = C^x \\lim_{\\Delta x \\to 0}\\frac{C^{\\Delta x} - 1}{\\Delta x}$$\n",
    "\n",
    "$$f'(x) = C^x \\lim_{\\Delta x \\to 0}\\frac{C^{0 + \\Delta x} - C^0}{\\Delta x}$$\n",
    "\n",
    "$$f'(x) = f(x) \\cdot f'(0)$$\n",
    "\n",
    "不妨设存在$e$，有 $g(x) = e^x$，使得 $g'(0) = 1$，这样 $g'(x) = g(x) = e^x$\n",
    "\n",
    "令 $e^{\\ln x} = x$\n",
    "\n",
    "两边关于x求导，有\n",
    "\n",
    "$$e^{\\ln x} \\cdot \\ln' x = 1$$\n",
    "\n",
    "$$\\ln'x = \\frac{1}{x}$$\n",
    "\n",
    "$$f(x) = C^x = (e^{ln C})^x = e^{x \\ln C}$$\n",
    "\n",
    "$$f'(x) = \\ln C \\cdot e^{x \\ln C} = \\ln C \\cdot C^x$$\n",
    "\n",
    "令 $f(x) = x^C$\n",
    "\n",
    "$$f(x) = e^{C \\ln x}$$\n",
    "\n",
    "$$f'(x) = e^{C \\ln x} \\cdot C \\cdot \\frac{1}{x} = C \\cdot x^{C-1}$$\n",
    "\n",
    "所以\n",
    "\n",
    "$$f(x) = u(x)^{v(x)}$$\n",
    "\n",
    "$$f'(x) = u'(x) \\cdot v(x) \\cdot u(x)^{v(x) - 1} + v'(x) \\cdot \\ln u(x) \\cdot u(x)^{v(x)}$$\n",
    "\n",
    "$$= u(x)^{v(x) -1} \\cdot(u'(x) \\cdot v(x) + v'(x) \\cdot u(x) \\cdot \\ln u(x))$$"
   ]
  }
 ],
 "metadata": {
  "kernelspec": {
   "display_name": "Python 3",
   "language": "python",
   "name": "python3"
  },
  "language_info": {
   "codemirror_mode": {
    "name": "ipython",
    "version": 3
   },
   "file_extension": ".py",
   "mimetype": "text/x-python",
   "name": "python",
   "nbconvert_exporter": "python",
   "pygments_lexer": "ipython3",
   "version": "3.6.3"
  }
 },
 "nbformat": 4,
 "nbformat_minor": 2
}
