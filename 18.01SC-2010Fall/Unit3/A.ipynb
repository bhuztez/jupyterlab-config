{
 "cells": [
  {
   "cell_type": "markdown",
   "metadata": {},
   "source": [
    "# Part A: Definition of the Definite Integral and First Fundamental Theorem"
   ]
  },
  {
   "cell_type": "markdown",
   "metadata": {},
   "source": [
    "DEFINITE INTEGRALS\n",
    "\n",
    "FIND AREA UNDER A CURVE\n",
    "\n",
    "(CUMULATIVE SUM)\n",
    "\n",
    "start at a and end at b\n",
    "\n",
    "$$\\int_a^b f(x) \\mathrm{d} x$$\n",
    "\n",
    "Example 1 $f(x) = x^2$ a=0, b arbitrary\n",
    "\n",
    "$$\\frac{b}{n} \\cdot \\sum_{i=1}^n (\\frac{ib}{n})^2$$\n",
    "\n",
    "x^3 pronounce as x cubed\n",
    "\n",
    "$$= (\\frac{b}{n})^3 \\cdot \\sum_{i=1}^n i^2$$\n",
    "\n",
    "$$\\frac{1}{3} < \\frac{\\sum_{i=1}^n i^2}{n^3} < \\frac{1}{3} \\frac{(n+1)^3}{n^3}$$\n",
    "\n",
    "$$\\int_a^b x^2 \\mathrm{d} x = \\frac{1}{3} b^3$$"
   ]
  },
  {
   "cell_type": "markdown",
   "metadata": {},
   "source": [
    "Riemann Sums\n",
    "\n",
    "$$\\sum_{i=1}^n f(c_i) \\Delta x$$\n",
    "\n",
    "$\\Delta x \\to 0$\n",
    "\n",
    "$$\\int_a^b f(x) \\mathrm{d} x$$"
   ]
  },
  {
   "cell_type": "markdown",
   "metadata": {},
   "source": [
    "FUNDAMENTAL THEOREM OF CALCULUS\n",
    "\n",
    "pronounce as integral from a to b\n",
    "\n",
    "capital F of x\n",
    "\n",
    "If $F'(x) = f(x)$, $\\int_a^b  f(x) \\mathrm{d} x = F(b) - F(a)$\n",
    "\n",
    "$$F(b) - F(a) = F(x)\\mid_{x=a}^{x=b}$$"
   ]
  },
  {
   "cell_type": "markdown",
   "metadata": {},
   "source": [
    "$$\\int_a^b f(x) + g(x) \\mathrm{d} x = \\int_a^b f(x) \\mathrm{d} x + \\int_a^b f(x) + g(x) \\mathrm{d} x$$\n",
    "\n",
    "$$\\int_a^b cf(x)  \\mathrm{d} x = c \\int_a^b f(x) \\mathrm{d} x$$\n",
    "\n",
    "$$\\int_a^b f(x)  \\mathrm{d} x + \\int_b^c f(x)  \\mathrm{d} x = \\int_a^c f(x)  \\mathrm{d} x$$\n",
    "\n",
    "$$\\int_a^a f(x)  \\mathrm{d} x = 0$$\n",
    "\n",
    "$$\\int_b^a f(x)  \\mathrm{d} x = - \\int_a^b f(x) \\mathrm{d} x$$ \n",
    "\n",
    "if $f(x) \\le g(x)$, a < b\n",
    "\n",
    "$$\\int_a^b f(x) \\mathrm{d} x  \\le \\int_a^b g(x) \\mathrm{d} x $$\n",
    "\n",
    "$u = u(x), \\mathrm{d} u = u'(x) \\mathrm{d} x$\n",
    "\n",
    "$$\\int_{u_1}^{u_2} g(u) \\mathrm{d} u = \\int_{x_1}^{x_2} g(u(x)) u'(x) \\mathrm{d} x$$\n",
    "\n",
    "if only u' does not change sign"
   ]
  },
  {
   "cell_type": "markdown",
   "metadata": {},
   "source": [
    "COMPARE FTC1 WITH MVT\n",
    "\n",
    "$$\\Delta F = F(b) - F(a), \\Delta x = b - a$$\n",
    "\n",
    "$$\\Delta F = \\int_a^b f(x) \\mathrm{d} x$$\n",
    "\n",
    "$$\\frac{\\Delta F}{\\Delta x} = \\frac{1}{b-a}\\int_a^b f(x) \\mathrm{d} x$$\n",
    "\n",
    "\n",
    "FTC1\n",
    "\n",
    "$$\\Delta F = Avg(F') \\Delta x$$\n",
    "\n",
    "MVT\n",
    "\n",
    "$$\\Delta F = F'(c) \\Delta x$$\n",
    "\n",
    "some c, a < c < b"
   ]
  }
 ],
 "metadata": {
  "kernelspec": {
   "display_name": "Python 3",
   "language": "python",
   "name": "python3"
  },
  "language_info": {
   "codemirror_mode": {
    "name": "ipython",
    "version": 3
   },
   "file_extension": ".py",
   "mimetype": "text/x-python",
   "name": "python",
   "nbconvert_exporter": "python",
   "pygments_lexer": "ipython3",
   "version": "3.6.3"
  }
 },
 "nbformat": 4,
 "nbformat_minor": 2
}
