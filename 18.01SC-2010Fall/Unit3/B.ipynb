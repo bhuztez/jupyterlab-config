{
 "cells": [
  {
   "cell_type": "markdown",
   "metadata": {},
   "source": [
    "# Part B: Second Fundamental Theorem, Areas, Volumes"
   ]
  },
  {
   "cell_type": "markdown",
   "metadata": {},
   "source": [
    "If f is continuous and $G(x) = \\int_a^x f(t) \\mathrm{d} t$, $a \\le t \\le x$\n",
    "\n",
    "$$G'(x) = f(x)$$\n",
    "\n",
    "$G(x)$ solves\n",
    "\n",
    "$$\\begin{cases}y' = f\\\\ y(a) = 0 \\\\\\end{cases}$$"
   ]
  },
  {
   "cell_type": "markdown",
   "metadata": {},
   "source": [
    "PROOF OF FTC2\n",
    "\n",
    "$$\\Delta G \\approx \\Delta x \\cdot f(x)$$\n",
    "\n",
    "$$\\lim_{\\Delta x \\to 0} \\frac{\\Delta G}{\\Delta x} = f(x)$$\n",
    "\n",
    "PROOF OF FTC1\n",
    "\n",
    "assume f is continuous\n",
    "\n",
    "$$F' = f$$\n",
    "\n",
    "\n",
    "DEFINE\n",
    "$$G(x) = \\int_a^x f(t) \\mathrm{d} t$$\n",
    "\n",
    "$$G'(x) = f(x)$$\n",
    "\n",
    "$$F'(x) = G'(x)$$\n",
    "\n",
    "$$F(x) = G(x) + c$$\n",
    "\n",
    "\n",
    "Hence\n",
    "\n",
    "$$F(b) - F(a) = (G(b) + c) - (G(a) + c) = G(b) - G(a)$$"
   ]
  }
 ],
 "metadata": {
  "kernelspec": {
   "display_name": "Python 3",
   "language": "python",
   "name": "python3"
  },
  "language_info": {
   "codemirror_mode": {
    "name": "ipython",
    "version": 3
   },
   "file_extension": ".py",
   "mimetype": "text/x-python",
   "name": "python",
   "nbconvert_exporter": "python",
   "pygments_lexer": "ipython3",
   "version": "3.6.3"
  }
 },
 "nbformat": 4,
 "nbformat_minor": 2
}
