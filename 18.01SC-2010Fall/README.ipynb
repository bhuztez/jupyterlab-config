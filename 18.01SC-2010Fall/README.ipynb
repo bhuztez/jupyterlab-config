{
 "cells": [
  {
   "cell_type": "markdown",
   "metadata": {},
   "source": [
    "# 18.01SC: Single Variable Calculus\n",
    "\n",
    "1. Differentiation\n",
    "   * Part A: Definition and Basic Rules\n",
    "      * [Session 1: Introduction to Derivatives](Unit1/S01.ipynb)\n",
    "      * [Session 2: Examples of Derivatives](Unit1/S02.ipynb)\n",
    "      * [Session 3: Derivative as Rate of Change](Unit1/S03.ipynb)\n",
    "      * [Session 4: Limits and Continuity](Unit1/S04.ipynb)\n",
    "      * [Session 5: Discontinuity](Unit1/S05.ipynb)\n",
    "   * Part B: Implicit Differentiation and Inverse Functions\n",
    "1. Applications of Differentiation"
   ]
  }
 ],
 "metadata": {
  "kernelspec": {
   "display_name": "Python 3",
   "language": "python",
   "name": "python3"
  },
  "language_info": {
   "codemirror_mode": {
    "name": "ipython",
    "version": 3
   },
   "file_extension": ".py",
   "mimetype": "text/x-python",
   "name": "python",
   "nbconvert_exporter": "python",
   "pygments_lexer": "ipython3",
   "version": "3.6.3"
  }
 },
 "nbformat": 4,
 "nbformat_minor": 2
}
