{
 "cells": [
  {
   "cell_type": "markdown",
   "metadata": {},
   "source": [
    "# 18.01SC: Single Variable Calculus\n",
    "\n",
    "1. Differentiation\n",
    "   * Part A: Definition and Basic Rules\n",
    "      * [Session 1: Introduction to Derivatives](Unit1/S01.ipynb)\n",
    "      * [Session 2: Examples of Derivatives](Unit1/S02.ipynb)\n",
    "      * [Session 3: Derivative as Rate of Change](Unit1/S03.ipynb)\n",
    "      * [Session 4: Limits and Continuity](Unit1/S04.ipynb)\n",
    "      * [Session 5: Discontinuity](Unit1/S05.ipynb)\n",
    "      * [Session 6: Calculating Derivatives](Unit1/S06.ipynb)\n",
    "      * [Session 7: Derivatives of Sine and Cosine](Unit1/S07.ipynb)\n",
    "      * [Session 8: Limits of Sine and Cosine](Unit1/S08.ipynb)\n",
    "      * [Session 9: Product Rule](Unit1/S09.ipynb)\n",
    "      * [Session 10: Quotient Rule](Unit1/S10.ipynb)\n",
    "      * [Session 11: Chain Rule](Unit1/S11.ipynb)\n",
    "      * [Session 12: Higher Derivatives](Unit1/S12.ipynb)\n",
    "   * Part B: Implicit Differentiation and Inverse Functions\n",
    "      * [Session 13: Implicit Differentiation](Unit1/S13.ipynb)\n",
    "      * [Session 14: Examples of Implicit Differentiation](Unit1/S14.ipynb)\n",
    "      * [Session 15: Implicit Differentiation and Inverse Functions](Unit1/S15.ipynb)\n",
    "      * [Session 16: The Derivative of a^x](Unit1/S16.ipynb)\n",
    "      * [Session 17: The Exponential Function, its Derivative, and its Inverse](Unit1/S17.ipynb)\n",
    "      * [Session 18: Derivatives of other Exponential Functions](Unit1/S18.ipynb)\n",
    "      * [Session 19: An Interesting Limit Involving e](Unit1/S19.ipynb)\n",
    "1. Applications of Differentiation\n",
    "   * [Part A: Approximation and Curve Sketching](Unit2/A.ipynb)\n",
    "   * [Part B: Optimization, Related Rates and Newton's Method](Unit2/B.ipynb)\n",
    "   * [Part C: Mean Value Theorem, Antiderivatives and Differential Equations](Unit2/C.ipynb)\n",
    "1. The Definite Integral and its Applications\n",
    "   * [Part A: Definition of the Definite Integral and First Fundamental Theorem](Unit3/A.ipynb)\n",
    "   * [Part B: Second Fundamental Theorem, Areas, Volumes](Unit3/B.ipynb)\n",
    "1. Techniques of Integration\n",
    "   * [Part A: Trigonometric Powers, Trigonometric Substitution and Completing the Square](Unit4/A.ipynb)\n",
    "   * [Part B: Partial Fractions, Integration by Parts, Arc Length, and Surface Area](Unit4/B.ipynb)"
   ]
  }
 ],
 "metadata": {
  "kernelspec": {
   "display_name": "Python 3",
   "language": "python",
   "name": "python3"
  },
  "language_info": {
   "codemirror_mode": {
    "name": "ipython",
    "version": 3
   },
   "file_extension": ".py",
   "mimetype": "text/x-python",
   "name": "python",
   "nbconvert_exporter": "python",
   "pygments_lexer": "ipython3",
   "version": "3.6.3"
  }
 },
 "nbformat": 4,
 "nbformat_minor": 2
}
