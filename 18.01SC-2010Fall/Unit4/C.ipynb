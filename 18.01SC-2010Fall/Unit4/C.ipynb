{
 "cells": [
  {
   "cell_type": "markdown",
   "metadata": {},
   "source": [
    "# Part C: Parametric Equations and Polar Coordinates"
   ]
  },
  {
   "cell_type": "markdown",
   "metadata": {},
   "source": [
    "PARAMETRIC CURVES\n",
    "\n",
    "$x = x(t)$\n",
    "\n",
    "$y = y(t)$\n",
    "\n",
    "Ex1 \n",
    "\n",
    "$$x = a \\cos t$$\n",
    "\n",
    "$$y = a \\sin t$$\n",
    "\n"
   ]
  },
  {
   "cell_type": "markdown",
   "metadata": {},
   "source": [
    "ARC LENGTH\n",
    "\n",
    "$$\\mathrm{d} s^2 = \\mathrm{d} x^2 + \\mathrm{d} y^2$$\n",
    "\n",
    "\n",
    "$$\\mathrm{d} s = \\sqrt{(\\frac{\\mathrm{d} x}{\\mathrm{d} t})^2 + (\\frac{\\mathrm{d} y}{\\mathrm{d} t})^2}\\mathrm{d} t$$\n",
    "\n",
    "\n",
    "$$\\mathrm{d} s = \\sqrt{(-a\\sin t)^2 + (a \\cos t)^2} \\mathrm{dt}$$\n",
    "\n",
    "$$\\frac{\\mathrm{d} s}{\\mathrm{d} t} = a $$"
   ]
  },
  {
   "cell_type": "markdown",
   "metadata": {},
   "source": [
    "SURFACE AREA\n",
    "\n",
    "$$x = 2a \\cos t$$\n",
    "\n",
    "$$y = a \\sin t$$\n",
    "\n",
    "\n",
    "$$A = \\int_0^{\\pi} 2\\pi (2 \\sin t)\\sqrt{4 \\cos^2 t + \\sin^2 t} \\mathrm{d} t$$\n",
    "\n",
    "$$u = \\cos t$$\n",
    "\n",
    "$$\\mathrm{d} u = -\\sin t \\mathrm{d} t$$\n",
    "\n"
   ]
  },
  {
   "cell_type": "markdown",
   "metadata": {},
   "source": [
    "POLAR COORDINATES\n",
    "\n",
    "$$x = r \\cos \\theta$$\n",
    "\n",
    "$$y = r \\sin \\theta$$\n",
    "\n",
    "$$r = \\sqrt{x^2+y^2}$$\n",
    "\n",
    "$$\\theta = \\arctan \\frac{y}{x}$$"
   ]
  },
  {
   "cell_type": "markdown",
   "metadata": {},
   "source": [
    "Ex $y = 1$\n",
    "\n",
    "$$r = \\frac{1}{\\sin \\theta}$$\n",
    "\n",
    "Ex off center circle\n",
    "\n",
    "$$(x-a)^2 + y^2 = a^2$$\n",
    "\n",
    "$$x^2 - 2ax + y^2 = 0$$\n",
    "\n",
    "$$r^2 - 2ax = 0$$\n",
    "\n",
    "$$r^2 - 2ar\\cos \\theta = 0$$\n",
    "\n",
    "$$r^2 = 2ar\\cos \\theta$$\n",
    "\n",
    "$$r = 2a \\cos \\theta$$\n",
    "\n",
    "or \n",
    "\n",
    "$$r = 0$$\n",
    "\n",
    "\n",
    "$$- \\frac{\\pi}{2}\\le \\theta \\le \\frac{\\pi}{2}$$"
   ]
  },
  {
   "cell_type": "markdown",
   "metadata": {},
   "source": [
    "AREA\n",
    "\n",
    "$$\\mathrm{d} A = \\frac{1}{2}r^2 \\mathrm{d} \\theta$$"
   ]
  },
  {
   "cell_type": "markdown",
   "metadata": {},
   "source": [
    "$$A = \\int_{-\\frac{\\pi}{2}}^{\\frac{\\pi}{2}} \\frac{1}{2} (2a\\cos \\theta)^2 \\mathrm{d} \\theta$$\n",
    "\n",
    "$$= 2a^2 \\int_{-\\frac{\\pi}{2}}^{\\frac{\\pi}{2}} \\cos^2 \\theta \\mathrm{d} \\theta$$\n",
    "\n",
    "$$= 2a^2 \\int_{-\\frac{\\pi}{2}}^{\\frac{\\pi}{2}} \\frac{1+\\cos 2\\theta}{2} \\mathrm{d} \\theta $$\n",
    "\n",
    "$$= a^2 (\\theta + \\frac{1}{2}\\sin 2\\theta)|_{-\\frac{\\pi}{2}}^{\\frac{\\pi}{2}}$$\n",
    "\n",
    "$$= \\pi a^2$$"
   ]
  }
 ],
 "metadata": {
  "kernelspec": {
   "display_name": "Python 3",
   "language": "python",
   "name": "python3"
  },
  "language_info": {
   "codemirror_mode": {
    "name": "ipython",
    "version": 3
   },
   "file_extension": ".py",
   "mimetype": "text/x-python",
   "name": "python",
   "nbconvert_exporter": "python",
   "pygments_lexer": "ipython3",
   "version": "3.6.3"
  }
 },
 "nbformat": 4,
 "nbformat_minor": 2
}
