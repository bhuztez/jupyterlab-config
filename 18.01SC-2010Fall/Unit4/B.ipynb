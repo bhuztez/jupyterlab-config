{
 "cells": [
  {
   "cell_type": "markdown",
   "metadata": {},
   "source": [
    "# Part B: Partial Fractions, Integration by Parts, Arc Length, and Surface Area"
   ]
  },
  {
   "cell_type": "markdown",
   "metadata": {},
   "source": [
    "$$\\frac{P(x)}{Q(x)}$$\n",
    "\n",
    "\n",
    "Ex1 \n",
    "\n",
    "$$\\int (\\frac{1}{x-1} + \\frac{3}{x+2}) \\mathrm{d} x$$\n",
    "\n",
    "$$ = \\ln \\left\\vert x - 1\\right\\vert + 3 \\ln \\left\\vert x+2 \\right\\vert + c$$\n",
    "\n",
    "cover up method\n",
    "\n",
    "if Q(x) has distinct linear factors and degree P < degree Q"
   ]
  },
  {
   "cell_type": "markdown",
   "metadata": {},
   "source": [
    "Ex2 degree P < degree Q\n",
    "\n",
    "Q has repeated linear factors\n",
    "\n",
    "$$\\frac{x^2+2}{(x-1)^2(x+2)} = \\frac{A}{x-1} + \\frac{B}{(x-1)^2} + \\frac{C}{x+2}$$"
   ]
  },
  {
   "cell_type": "markdown",
   "metadata": {},
   "source": [
    "Ex 3\n",
    "\n",
    "Q has a quadratic factor\n",
    "\n",
    "$$\\frac{x^2}{(x-1)(x^2+1)} = \\frac{A}{x-1} + \\frac{Bx+C}{x^2+1}$$\n",
    "\n",
    "$$\\int \\frac{x^2}{(x-1)(x^2+1)} \\mathrm{d} x$$\n",
    "\n",
    "$$= \\int \\frac{\\frac{1}{2}}{x-1} \\mathrm{d} x + \\int \\frac{\\frac{1}{2}x}{x^2+1} \\mathrm{d} x +  \\int \\frac{\\frac{1}{2}}{x^2+1} \\mathrm{d} x$$\n",
    "\n",
    "$$= \\frac{1}{2} \\ln |x-1| + \\frac{1}{4} \\ln (x^2+1) + \\frac{1}{2} \\arctan x + c$$"
   ]
  },
  {
   "cell_type": "markdown",
   "metadata": {},
   "source": [
    "INTEGRATION BY PARTS\n",
    "\n",
    "$$(uv)' = u'v + uv'$$\n",
    "\n",
    "$$uv' = (uv)' - u'v$$\n",
    "\n",
    "$$\\int uv' \\mathrm{d} x = uv - \\int u'v \\mathrm{d} x$$\n",
    "\n",
    "\n",
    "Ex1 \n",
    "\n",
    "$$\\int \\ln x \\mathrm{d} x$$\n",
    "\n",
    "$$u = \\ln x, u' = \\frac{1}{x}$$\n",
    "\n",
    "$$v = x, v'=1$$\n",
    "\n",
    "\n",
    "$$= x \\ln x - \\int \\frac{1}{x} x \\mathrm{d} x$$\n",
    "\n",
    "$$= x \\ln x - x + c$$\n",
    "\n",
    "\n",
    "Ex2\n",
    "\n",
    "$$\\int (\\ln x)^2 \\mathrm{d} x$$\n",
    "\n",
    "$$u = (\\ln x)^2, u' = 2 \\ln x \\cdot \\frac{1}{x}$$\n",
    "\n",
    "$$v = x, v' = 1$$\n",
    "\n",
    "$$= x (\\ln x)^2 - \\int 2 ln x \\mathrm{d} x$$\n",
    "\n",
    "$$= x (\\ln x)^2 - 2(x \\ln x - x) + c$$"
   ]
  },
  {
   "cell_type": "markdown",
   "metadata": {},
   "source": [
    "Ex3 reduction formula\n",
    "\n",
    "$$\\int (\\ln x)^n \\mathrm{d} x$$\n",
    "\n",
    "$$= x(\\ln x)^n - n \\int (\\ln x)^{n-1} \\mathrm{d} x$$\n",
    "\n",
    "Ex4\n",
    "\n",
    "$$\\int x^n e^x \\mathrm{d} x$$\n",
    "\n",
    "$$u = x^n, u' = n x^{n-1}$$\n",
    "\n",
    "$$v = e^x, v' = e^x$$"
   ]
  }
 ],
 "metadata": {
  "kernelspec": {
   "display_name": "Python 3",
   "language": "python",
   "name": "python3"
  },
  "language_info": {
   "codemirror_mode": {
    "name": "ipython",
    "version": 3
   },
   "file_extension": ".py",
   "mimetype": "text/x-python",
   "name": "python",
   "nbconvert_exporter": "python",
   "pygments_lexer": "ipython3",
   "version": "3.6.3"
  }
 },
 "nbformat": 4,
 "nbformat_minor": 2
}
