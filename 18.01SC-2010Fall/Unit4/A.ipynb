{
 "cells": [
  {
   "cell_type": "markdown",
   "metadata": {},
   "source": [
    "# Part A: Trigonometric Powers, Trigonometric Substitution and Completing the Square"
   ]
  },
  {
   "cell_type": "markdown",
   "metadata": {},
   "source": [
    "$$\\int \\sin^n x \\cos^m x \\mathrm{d} x, m,n=0,1,2,...$$\n",
    "\n",
    "Ex: $m=1$\n",
    "\n",
    "$$\\int \\sin^n x \\cos x \\mathrm{d} x$$\n",
    "\n",
    "$$u = \\sin x$$\n",
    "\n",
    "$$\\int u^n \\mathrm{d} u = \\frac{u^{n+1}}{n+1} + c = \\frac{\\sin^{n+1} x}{n+1}+c$$\n",
    "\n",
    "Ex\n",
    "\n",
    "$$\\int \\sin^3 x \\cos^2 x \\mathrm{d} x$$\n",
    "\n",
    "$$\\sin^2 x = (1 - \\cos^2 x)$$\n",
    "\n",
    "$$= \\int(1 - \\cos^2 x)\\sin x \\cos^2 x \\mathrm{d} x$$\n",
    "\n",
    "$$= \\int(\\cos^2 x - \\cos^4 x) \\sin x \\mathrm{d} x$$\n",
    "\n",
    "$$u = \\cos x$$\n",
    "\n",
    "$$\\mathrm{d} u = - \\sin x \\mathrm{d} x$$\n",
    "\n",
    "$$= \\int(u^2 - u^4) (- \\mathrm{d} u)$$\n",
    "\n",
    "$$ = -\\frac{u^3}{3} + \\frac{u^5}{5} + c$$\n",
    "\n",
    "Ex\n",
    "\n",
    "$$\\int \\sin^3 x \\mathrm{d} x$$\n",
    "\n",
    "$$= \\int (1 - \\cos^2 x) \\sin x \\mathrm{d} x$$\n",
    "\n",
    "$$u = \\cos x$$\n",
    "\n",
    "$$= \\int (1-u^2)(- \\mathrm{d} u)$$\n",
    "\n",
    "$$= -u + \\frac{u^3}{3} + c$$\n",
    "\n",
    "Ex\n",
    "\n",
    "$$\\int \\cos^2 x \\mathrm{d} x$$\n",
    "\n",
    "\n",
    "$$\\cos^2 \\theta = \\frac{1+\\cos 2\\theta}{2}$$\n",
    "\n",
    "$$\\sin^2 \\theta = \\frac{1 - \\cos 2\\theta}{2}$$\n",
    "\n",
    "$$ = \\int \\frac{1 + \\cos(2x)}{2} \\mathrm{d} x$$\n",
    "\n",
    "$$ = \\frac{x}{2} + \\frac{\\sin(2x)}{4} + c $$\n",
    "\n",
    "\n",
    "Ex $$\\int \\sin^2 x\\cos^2 x \\mathrm{d} x$$\n",
    "\n",
    "$$\\sin^2 x \\cos^2 x = \\frac{1 - \\cos(2x)}{2} \\cdot \\frac{1 + \\cos(2x)}{2}$$\n",
    "\n",
    "$$ = \\frac{1 - \\cos^2(2x)}{4} = \\frac{1}{4} - \\frac{1+\\cos(4x)}{8}$$\n",
    "\n",
    "$$= \\frac{1 - \\cos(4x)}{8}$$\n",
    "\n",
    "$$= \\int \\frac{1-\\cos(4x)}{8} \\mathrm{d} x$$\n",
    "\n",
    "$$= \\frac{x}{8} - \\frac{\\sin(4x)}{32} + c$$"
   ]
  },
  {
   "cell_type": "markdown",
   "metadata": {},
   "source": [
    "$$\\int \\sqrt{a^2 - y^2} \\mathrm{d} y$$\n",
    "\n",
    "$$y = a \\sin \\theta$$\n",
    "\n",
    "$$= \\int a \\cos \\theta (a \\cos \\theta \\mathrm{d} \\theta)$$\n",
    "\n",
    "$$= a^2 \\int \\cos^2 \\theta \\mathrm{d} \\theta$$\n",
    "\n",
    "$$= a^2 (\\frac{\\theta}{2} + \\frac{\\sin(2\\theta)}{4}) +c$$\n",
    "\n",
    "$$= a^2 (\\frac{\\theta}{2} + \\frac{\\sin\\theta \\cos \\theta}{2}) + c$$\n",
    "\n",
    "$$= \\frac{a^2 \\arcsin \\frac{y}{a}}{2} + \\frac{y \\sqrt{a^2 - y^2}}{2}+c$$\n",
    "\n",
    "$$\\int_0^b \\sqrt{a^2 - y^2} \\mathrm{d} y$$\n",
    "\n",
    "$$= \\frac{a^2\\arcsin \\frac{b}{a}}{2} + \\frac{b\\sqrt{a^2-b^2}}{2}$$"
   ]
  },
  {
   "cell_type": "markdown",
   "metadata": {},
   "source": [
    "$$\\int \\tan x \\mathrm{d} x$$\n",
    "\n",
    "$$= \\int \\frac{\\sin x}{\\cos x} \\mathrm{d} x$$\n",
    "\n",
    "$$u = \\cos x$$\n",
    "\n",
    "$$\\mathrm{d} = - \\sin x \\mathrm{d} x$$\n",
    "\n",
    "$$= \\int \\frac{-1}{u} \\mathrm{d} u $$\n",
    "\n",
    "$$= - \\ln (u) + c$$"
   ]
  },
  {
   "cell_type": "markdown",
   "metadata": {},
   "source": [
    "$$\\int \\frac{\\mathrm{d} x}{x^2\\sqrt{1 + x^2}}$$\n",
    "\n",
    "$$x = \\tan \\theta$$\n",
    "\n",
    "$$\\sqrt{1+x^2} = \\sec \\theta$$\n",
    "\n",
    "$$\\mathrm{d} x = \\sec^2 \\theta \\mathrm{d} \\theta $$\n",
    "\n",
    "$$= \\int \\frac{sec^2 \\theta}{tan^2 \\theta \\sec \\theta} \\mathrm{d} \\theta $$\n",
    "\n",
    "$$= \\int \\frac{\\cos^2 \\theta}{\\cos \\theta \\sin^2 \\theta} \\mathrm{d} \\theta $$\n",
    "\n",
    "$$= \\int \\frac{\\cos \\theta}{\\sin^2 \\theta} \\mathrm{d} \\theta $$\n",
    "\n",
    "$$u = \\sin \\theta$$\n",
    "\n",
    "$$\\mathrm{d} u = \\cos \\theta \\mathrm{d} \\theta$$\n",
    "\n",
    "$$ = \\int \\frac{\\mathrm{d} u}{u^2} = - \\frac{1}{u} + c$$\n",
    "\n",
    "$$= - \\csc \\theta + c$$\n",
    "\n",
    "$$= - \\frac{\\sqrt{1+x^2}}{x} + c$$"
   ]
  },
  {
   "cell_type": "markdown",
   "metadata": {},
   "source": [
    "$$\\int \\frac{\\mathrm{d} x}{\\sqrt{x^2 + 4x}}$$\n",
    "\n",
    "\n",
    "$$= \\int \\frac{\\mathrm{d} x}{\\sqrt{(x+2)^2 -4}}$$"
   ]
  }
 ],
 "metadata": {
  "kernelspec": {
   "display_name": "Python 3",
   "language": "python",
   "name": "python3"
  },
  "language_info": {
   "codemirror_mode": {
    "name": "ipython",
    "version": 3
   },
   "file_extension": ".py",
   "mimetype": "text/x-python",
   "name": "python",
   "nbconvert_exporter": "python",
   "pygments_lexer": "ipython3",
   "version": "3.6.3"
  }
 },
 "nbformat": 4,
 "nbformat_minor": 2
}
