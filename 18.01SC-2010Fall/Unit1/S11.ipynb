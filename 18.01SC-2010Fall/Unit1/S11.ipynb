{
 "cells": [
  {
   "cell_type": "markdown",
   "metadata": {},
   "source": [
    "# Session 11: Chain Rule"
   ]
  },
  {
   "cell_type": "markdown",
   "metadata": {},
   "source": [
    "## Clip 1: Chain Rule"
   ]
  },
  {
   "cell_type": "code",
   "execution_count": null,
   "metadata": {},
   "outputs": [],
   "source": [
    "YouTubeVideo('4sTKcvYMNxk', start=1335, end=1788)"
   ]
  },
  {
   "cell_type": "markdown",
   "metadata": {},
   "source": [
    "[Accompanying Notes (PDF)](https://ocw.mit.edu/courses/mathematics/18-01sc-single-variable-calculus-fall-2010/1.-differentiation/part-a-definition-and-basic-rules/session-11-chain-rule/MIT18_01SCF10_Ses11a.pdf)"
   ]
  },
  {
   "cell_type": "markdown",
   "metadata": {},
   "source": [
    "Composition Rule\n",
    "\n",
    "sine of t raise to 10th power\n",
    "\n",
    "$$y = (\\sin t)^{10} = \\sin^{10}(t)$$\n",
    "\n",
    "Method: use new variable name\n",
    "\n",
    "$$x = \\sin (t)$$\n",
    "\n",
    "inside\n",
    "\n",
    "$$y = x^{10}$$\n",
    "\n",
    "outside\n",
    "\n",
    "pf:\n",
    "\n",
    "$$\\frac{\\Delta y}{\\Delta t} = \\frac{\\Delta y}{\\Delta x} \\cdot \\frac{\\Delta x}{\\Delta t}$$\n",
    "\n",
    "$\\Delta t \\to 0$\n",
    "\n",
    "$$\\frac{\\mathrm{d}y}{\\mathrm{d}t} = \\frac{\\mathrm{d}y}{\\mathrm{d}x} \\cdot \\frac{\\mathrm{d}x}{\\mathrm{d}t}$$\n",
    "\n",
    "Chain RUle\n",
    "\n",
    "Differentiation of a composition is a product\n",
    "\n",
    "Ex.\n",
    "\n",
    "$$\\frac{\\mathrm{d}}{\\mathrm{d}t} (\\sin t)^10$$\n",
    "\n",
    "$$= 10x^9 \\cdot \\cos (t) $$\n",
    "\n",
    "$$= 10(\\sin(t))^9 \\cdot \\cos (t) $$\n",
    "\n",
    "$$= 10 \\sin^9(t) \\cos (t) $$\n"
   ]
  },
  {
   "cell_type": "markdown",
   "metadata": {},
   "source": [
    "## Recitation"
   ]
  },
  {
   "cell_type": "code",
   "execution_count": null,
   "metadata": {},
   "outputs": [],
   "source": [
    "YouTubeVideo('aeQA5d3gZTI')"
   ]
  },
  {
   "cell_type": "markdown",
   "metadata": {},
   "source": [
    "Find two values for $\\theta$ so that\n",
    "\n",
    "$$\\frac{\\mathrm{d}}{\\mathrm{d}\\theta} (\\cos^2 (\\theta ^4)) = 0$$\n",
    "\n",
    "$(\\cos (\\theta^4))^2$\n",
    "\n",
    "$y = x^2$\n",
    "\n",
    "$x == \\cos w$\n",
    "\n",
    "$w = \\theta^4$\n",
    "\n",
    "$$\\frac{\\mathrm{d}y}{\\mathrm{d}\\theta} = \\frac{\\mathrm{d}y}{\\mathrm{d}x} \\cdot \\frac{\\mathrm{d}x}{\\mathrm{d}w} \\cdot \\frac{\\mathrm{d}w}{\\mathrm{d}\\theta}$$\n",
    "\n",
    "$$ = 2x \\cdot (- \\sin w) \\cdot 4 \\theta^3$$\n",
    "\n",
    "$$ = 2 \\cos \\theta^4 (-\\sin(\\theta^4)) \\cdot 4 \\theta^3$$\n",
    "\n",
    "$$ = -8 \\theta^3 \\cos \\theta^4 \\sin \\theta^4$$\n",
    "\n",
    "$ \\theta = 0$ easiest answer\n",
    "\n",
    "$\\cos (\\theta^4) = 0$\n",
    "\n",
    "$\\theta^4 = \\frac{\\pi}{2}$\n",
    "\n",
    "$\\theta = (\\frac{\\pi}{2})^\\frac{1}{4}$"
   ]
  },
  {
   "cell_type": "markdown",
   "metadata": {},
   "source": [
    "## Clip 1: Example: sin(10t)"
   ]
  },
  {
   "cell_type": "code",
   "execution_count": null,
   "metadata": {},
   "outputs": [],
   "source": [
    "YouTubeVideo('4sTKcvYMNxk', start=1788, end=1966)"
   ]
  },
  {
   "cell_type": "markdown",
   "metadata": {},
   "source": [
    "[Accompanying Notes (PDF)](https://ocw.mit.edu/courses/mathematics/18-01sc-single-variable-calculus-fall-2010/1.-differentiation/part-a-definition-and-basic-rules/session-11-chain-rule/MIT18_01SCF10_Ses11b.pdf)"
   ]
  },
  {
   "cell_type": "markdown",
   "metadata": {},
   "source": [
    "Ex2. \n",
    "\n",
    "$$\\frac{\\mathrm{d}}{\\mathrm{d}t} \\sin (10t) $$\n",
    "\n",
    "$$x = 10t$$\n",
    "\n",
    "$$y = \\sin(x)$$\n",
    "\n",
    "$$\\frac{\\mathrm{d}y}{\\mathrm{d}t} = \\cos(x) \\cdot 10 $$\n",
    "\n",
    "$$= 10 \\cos (10t)$$\n",
    "\n",
    "OR briefly\n",
    "\n",
    "$$\\frac{\\mathrm{d}}{\\mathrm{d}t} = \\sin(10t) $$\n",
    "\n",
    "$$= \\cos(10t) \\cdot 10$$"
   ]
  },
  {
   "cell_type": "markdown",
   "metadata": {},
   "source": [
    "## Worked Example"
   ]
  },
  {
   "cell_type": "markdown",
   "metadata": {},
   "source": [
    "[Problem (PDF)](https://ocw.mit.edu/courses/mathematics/18-01sc-single-variable-calculus-fall-2010/1.-differentiation/part-a-definition-and-basic-rules/session-11-chain-rule/MIT18_01SCF10_ex11prb.pdf)"
   ]
  },
  {
   "cell_type": "markdown",
   "metadata": {},
   "source": [
    "Use the quotient rule to find the derivative of $\\frac{x^3}{x+1}$\n",
    "\n",
    "Use the product and chain rules to find the derivative of $x^3\\cdot(x+1)^{-1}$. Note that $x^3\\cdot(x+1)^{-1} = \\frac{x^3}{x+1}$\n",
    "\n",
    "Use the chain and product rules (and not the quotient rule) to show that the derivative of $u(x)(v(x))^{-1}$ equals $\\frac{u'(x)v(x) - u(x)v'(x)}{(v(x))^2}$"
   ]
  }
 ],
 "metadata": {
  "kernelspec": {
   "display_name": "Python 3",
   "language": "python",
   "name": "python3"
  },
  "language_info": {
   "codemirror_mode": {
    "name": "ipython",
    "version": 3
   },
   "file_extension": ".py",
   "mimetype": "text/x-python",
   "name": "python",
   "nbconvert_exporter": "python",
   "pygments_lexer": "ipython3",
   "version": "3.6.3"
  }
 },
 "nbformat": 4,
 "nbformat_minor": 2
}
