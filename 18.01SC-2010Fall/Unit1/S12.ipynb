{
 "cells": [
  {
   "cell_type": "markdown",
   "metadata": {},
   "source": [
    "# Session 12: Higher Derivatives"
   ]
  },
  {
   "cell_type": "markdown",
   "metadata": {},
   "source": [
    "## Clip 1: Higher Derivatives"
   ]
  },
  {
   "cell_type": "code",
   "execution_count": null,
   "metadata": {},
   "outputs": [],
   "source": [
    "YouTubeVideo('4sTKcvYMNxk', start=1966, end=2504)"
   ]
  },
  {
   "cell_type": "markdown",
   "metadata": {},
   "source": [
    "[Accompanying Notes (PDF)](https://ocw.mit.edu/courses/mathematics/18-01sc-single-variable-calculus-fall-2010/1.-differentiation/part-a-definition-and-basic-rules/session-12-higher-derivatives/MIT18_01SCF10_Ses12a.pdf)"
   ]
  },
  {
   "cell_type": "markdown",
   "metadata": {},
   "source": [
    "$$u = u(x)$$\n",
    "\n",
    "$$u'$$\n",
    "\n",
    "$$u'' = (u')'$$\n",
    "\n",
    "Ex\n",
    "\n",
    "$u = \\sin x$, $u' = \\cos x$, $u'' = -\\sin x$, $u''' = - \\cos x$, $u^{(4)} = \\sin x$\n",
    "\n",
    "Other notation:\n",
    "\n",
    "$$u' = \\frac{\\mathrm{d}u}{\\mathrm{d}x} = \\frac{\\mathrm{d}}{\\mathrm{d}x} u = D u$$\n",
    "\n",
    "$$u'' = \\frac{\\mathrm{d}}{\\mathrm{d}x} \\frac{\\mathrm{d}u}{\\mathrm{d}x} = \\frac{\\mathrm{d}}{\\mathrm{d}x}\\frac{\\mathrm{d}}{\\mathrm{d}x} u = (\\frac{\\mathrm{d}}{\\mathrm{d}x})^2 u = \\frac{\\mathrm{d}^2}{(\\mathrm{d}x)^2} u = \\frac{\\mathrm{d}^2 u}{\\mathrm{d}x^2} $$\n",
    "\n",
    "$$u''' = \\frac{\\mathrm{d}^3 u}{\\mathrm{d}x^3} = D^3 u$$"
   ]
  },
  {
   "cell_type": "markdown",
   "metadata": {},
   "source": [
    "## Clip 2: Example: Dnxn"
   ]
  },
  {
   "cell_type": "code",
   "execution_count": null,
   "metadata": {},
   "outputs": [],
   "source": [
    "YouTubeVideo('4sTKcvYMNxk', start=2504, end=2763)"
   ]
  },
  {
   "cell_type": "markdown",
   "metadata": {},
   "source": [
    "[Accompanying Notes (PDF)](https://ocw.mit.edu/courses/mathematics/18-01sc-single-variable-calculus-fall-2010/1.-differentiation/part-a-definition-and-basic-rules/session-12-higher-derivatives/MIT18_01SCF10_Ses12b.pdf)"
   ]
  },
  {
   "cell_type": "markdown",
   "metadata": {},
   "source": [
    "Ex.\n",
    "\n",
    "$$D^n x^n = ?, n=1,2,3,...$$\n",
    "\n",
    "$$D x^n = n x^{n-1} $$\n",
    "\n",
    "$$D^2 x^n = n(n-1)x^{n-2} $$\n",
    "\n",
    "$$D^3 x^n = n(n-1)(n-2)x^{n-2} $$\n",
    "\n",
    "$$D^3 x^n = n(n-1)(n-2)x^{n-3} $$\n",
    "\n",
    "$$D^{n-1} x^n = n(n-1) \\cdots 2 x$$\n",
    "\n",
    "$$D^n x^n = n(n-1) \\cdots 2 \\cdot 1$$\n",
    "\n",
    "n-factorial\n",
    "\n",
    "$$D^n x^n = n!$$"
   ]
  },
  {
   "cell_type": "markdown",
   "metadata": {},
   "source": [
    "## Worked Example"
   ]
  },
  {
   "cell_type": "markdown",
   "metadata": {},
   "source": [
    "[Problem (PDF)](https://ocw.mit.edu/courses/mathematics/18-01sc-single-variable-calculus-fall-2010/1.-differentiation/part-a-definition-and-basic-rules/session-12-higher-derivatives/MIT18_01SCF10_ex12prb.pdf)"
   ]
  }
 ],
 "metadata": {
  "kernelspec": {
   "display_name": "Python 3",
   "language": "python",
   "name": "python3"
  },
  "language_info": {
   "codemirror_mode": {
    "name": "ipython",
    "version": 3
   },
   "file_extension": ".py",
   "mimetype": "text/x-python",
   "name": "python",
   "nbconvert_exporter": "python",
   "pygments_lexer": "ipython3",
   "version": "3.6.3"
  }
 },
 "nbformat": 4,
 "nbformat_minor": 2
}
