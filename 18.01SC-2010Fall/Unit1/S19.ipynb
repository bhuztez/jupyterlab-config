{
 "cells": [
  {
   "cell_type": "markdown",
   "metadata": {},
   "source": [
    "# Session 19: An Interesting Limit Involving e"
   ]
  },
  {
   "cell_type": "markdown",
   "metadata": {},
   "source": [
    "Ex 3\n",
    "\n",
    "$$\\lim_{n \\to \\infty} (1+\\frac{1}{n})^n$$\n",
    "\n",
    "$$\\ln ((1+\\frac{1}{n})^n) = n \\ln (1+\\frac{1}{n}) = \\frac{1}{\\Delta x} (\\ln (1 + \\Delta x) - \\ln 1)$$\n",
    "\n",
    "$\\Delta x = \\frac{1}{n} \\to 0$\n",
    "\n",
    "$$\\frac{\\mathrm{d}}{\\mathrm{d} x} \\ln x\\mid_{x=1} = \\frac{1}{x}\\mid_{x=1} = 1$$\n",
    "\n",
    "$$\\lim_{n \\to \\infty} (1+\\frac{1}{n})^n$$\n",
    "\n",
    "$$= e^{\\lim_{n \\to \\infty} \\ln (1+\\frac{1}{n})^n} = e$$\n",
    "\n",
    "EXPONENTS (CONT'D)\n",
    "\n",
    "$$a_k = (1+\\frac{1}{k})^k$$\n",
    "\n",
    "$$\\lim_{k \\to \\infty} a_k = e$$\n",
    "\n",
    "$$e = \\lim_{k\\to \\infty} (1 + \\frac{1}{k})^k$$\n",
    "\n"
   ]
  }
 ],
 "metadata": {
  "kernelspec": {
   "display_name": "Python 3",
   "language": "python",
   "name": "python3"
  },
  "language_info": {
   "codemirror_mode": {
    "name": "ipython",
    "version": 3
   },
   "file_extension": ".py",
   "mimetype": "text/x-python",
   "name": "python",
   "nbconvert_exporter": "python",
   "pygments_lexer": "ipython3",
   "version": "3.6.3"
  }
 },
 "nbformat": 4,
 "nbformat_minor": 2
}
