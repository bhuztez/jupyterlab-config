{
 "cells": [
  {
   "cell_type": "markdown",
   "metadata": {},
   "source": [
    "#  Session 14: Examples of Implicit Differentiation"
   ]
  },
  {
   "cell_type": "markdown",
   "metadata": {},
   "source": [
    "Example 2\n",
    "\n",
    "$$x^2 + y^2 = 1$$\n",
    "\n",
    "$$\\frac{\\mathrm{d}}{\\mathrm{d}x} (x^2+y^2=1)$$\n",
    "\n",
    "$$ 2x + 2yy' = 0$$\n",
    "\n",
    "$$y' = \\frac{-2x}{2y} = \\frac{-x}{y}$$\n",
    "\n",
    "Example 3\n",
    "\n",
    "$$y^4 + xy^2 - 2 = 0$$\n",
    "\n",
    "$$ 4y^3y' + y^2 + x(2yy') - 0 = 0$$\n",
    "\n",
    "$$(4y^3+2xy)y' = -2y^2$$\n",
    "\n",
    "$$y' = \\frac{-y^2}{4y^3 + 2xy}$$"
   ]
  }
 ],
 "metadata": {
  "kernelspec": {
   "display_name": "Python 3",
   "language": "python",
   "name": "python3"
  },
  "language_info": {
   "codemirror_mode": {
    "name": "ipython",
    "version": 3
   },
   "file_extension": ".py",
   "mimetype": "text/x-python",
   "name": "python",
   "nbconvert_exporter": "python",
   "pygments_lexer": "ipython3",
   "version": "3.6.3"
  }
 },
 "nbformat": 4,
 "nbformat_minor": 2
}
