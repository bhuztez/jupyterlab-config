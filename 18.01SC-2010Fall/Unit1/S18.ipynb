{
 "cells": [
  {
   "cell_type": "markdown",
   "metadata": {},
   "source": [
    "#  Session 18: Derivatives of other Exponential Functions"
   ]
  },
  {
   "cell_type": "markdown",
   "metadata": {},
   "source": [
    "Method 2:\n",
    "\n",
    "Logarithmic differentiation\n",
    "\n",
    "$$\\frac{\\mathrm{d}}{\\mathrm{d}x} u = ??, \\frac{\\mathrm{d}}{\\mathrm{d}x} \\ln u$$\n",
    "\n",
    "$$= \\frac{\\mathrm{d} \\ln u}{\\mathrm{d}x} \\frac{\\mathrm{d} u}{\\mathrm{d}x} = \\frac{1}{u} \\frac{\\mathrm{d} u}{\\mathrm{d}x}$$\n",
    "\n",
    "$$(\\ln u)' = \\frac{u'}{u}$$\n",
    "\n",
    "$$\\frac{\\mathrm{d}}{\\mathrm{d}x} a^x = ?, u = a^x$$\n",
    "\n",
    "$$\\ln u = x \\ln a$$\n",
    "\n",
    "$$(\\ln u)' = \\ln a$$\n",
    "\n",
    "$$\\frac{u'}{u} = \\ln a$$\n",
    "\n",
    "$$u' = u \\ln a$$\n",
    "\n",
    "$$\\frac{\\mathrm{d}}{\\mathrm{d}x} a^x = (\\ln a) \\cdot a^x$$\n",
    "\n",
    "Ex2 moving exponents\n",
    "\n",
    "$$v = x^x, \\ln v = x \\ln x$$\n",
    "\n",
    "$$(\\ln v)' = \\ln x + x \\cdot \\frac{1}{x}$$\n",
    "\n",
    "$$\\frac{v'}{v} = 1 + \\ln x$$\n",
    "\n",
    "$$v' = v(1+\\ln x)$$\n",
    "\n",
    "$$\\frac{\\mathrm{d}}{\\mathrm{d}x} x^x = x^x (1 + \\ln x)$$"
   ]
  },
  {
   "cell_type": "markdown",
   "metadata": {},
   "source": [
    "$$\\frac{\\mathrm{d}}{\\mathrm{d}x} x^r$$\n",
    "\n",
    "$$u = x^r, \\ln u = r \\ln x$$\n",
    "\n",
    "$$\\frac{u'}{u} = (\\ln u)' = \\frac{r}{x}$$\n",
    "\n",
    "$$u' = r x^{r-1}$$"
   ]
  }
 ],
 "metadata": {
  "kernelspec": {
   "display_name": "Python 3",
   "language": "python",
   "name": "python3"
  },
  "language_info": {
   "codemirror_mode": {
    "name": "ipython",
    "version": 3
   },
   "file_extension": ".py",
   "mimetype": "text/x-python",
   "name": "python",
   "nbconvert_exporter": "python",
   "pygments_lexer": "ipython3",
   "version": "3.6.3"
  }
 },
 "nbformat": 4,
 "nbformat_minor": 2
}
