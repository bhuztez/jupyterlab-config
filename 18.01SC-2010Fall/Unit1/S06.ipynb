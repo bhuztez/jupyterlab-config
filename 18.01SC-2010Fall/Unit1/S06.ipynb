{
 "cells": [
  {
   "cell_type": "markdown",
   "metadata": {},
   "source": [
    "# Session 6: Calculating Derivatives"
   ]
  },
  {
   "cell_type": "markdown",
   "metadata": {},
   "source": [
    "## Clip 1: Introduction to Differentiation"
   ]
  },
  {
   "cell_type": "code",
   "execution_count": null,
   "metadata": {},
   "outputs": [],
   "source": [
    "YouTubeVideo('kCPVBl953eY', start=20, end=76)"
   ]
  },
  {
   "cell_type": "markdown",
   "metadata": {},
   "source": [
    "[Accompanying Notes (PDF)](https://ocw.mit.edu/courses/mathematics/18-01sc-single-variable-calculus-fall-2010/1.-differentiation/part-a-definition-and-basic-rules/session-6-calculating-derivatives/MIT18_01SCF10_Ses6a.pdf)"
   ]
  },
  {
   "cell_type": "markdown",
   "metadata": {},
   "source": [
    "DERIVATIVE FORMULAS\n",
    "\n",
    "Specific $f'(x)$ $f(x) = x^n, \\frac{1}{x}$"
   ]
  },
  {
   "cell_type": "markdown",
   "metadata": {},
   "source": [
    "## Clip 2: Derivative of the Sum of Two Functions"
   ]
  },
  {
   "cell_type": "code",
   "execution_count": null,
   "metadata": {},
   "outputs": [],
   "source": [
    "YouTubeVideo('kCPVBl953eY', start=76, end=135)"
   ]
  },
  {
   "cell_type": "markdown",
   "metadata": {},
   "source": [
    "[Accompanying Notes (PDF)](https://ocw.mit.edu/courses/mathematics/18-01sc-single-variable-calculus-fall-2010/1.-differentiation/part-a-definition-and-basic-rules/session-6-calculating-derivatives/MIT18_01SCF10_Ses6b.pdf)"
   ]
  },
  {
   "cell_type": "markdown",
   "metadata": {},
   "source": [
    "General $(u+v)' = u' + v'$\n",
    "\n",
    "$(cu)' = cu'$ c constant\n",
    "\n",
    "Ex(ample) need both kinds for polynomials"
   ]
  },
  {
   "cell_type": "markdown",
   "metadata": {},
   "source": [
    "## Recitation"
   ]
  },
  {
   "cell_type": "markdown",
   "metadata": {},
   "source": [
    "### Constant Multiple Rule"
   ]
  },
  {
   "cell_type": "code",
   "execution_count": null,
   "metadata": {},
   "outputs": [],
   "source": [
    "YouTubeVideo('Eaei-Y5AO_E')"
   ]
  },
  {
   "cell_type": "markdown",
   "metadata": {},
   "source": [
    "constant multiple rule\n",
    "\n",
    "$$\\frac{\\mathrm{d}}{\\mathrm{d}x}(c \\cdot f(x)) = c \\cdot \\frac{\\mathrm{d}}{\\mathrm{d}x}(f(x)) $$\n",
    "\n",
    "$$\\frac{\\mathrm{d}}{\\mathrm{d}x}(3 x^2) = 3 \\cdot \\frac{\\mathrm{d}}{\\mathrm{d}x}(x^2) $$\n",
    "\n",
    "$$\\frac{\\mathrm{d}}{\\mathrm{d}x}(c \\cdot f(x))$$\n",
    "\n",
    "$$ = \\lim_{\\Delta x \\to 0} \\frac{cf(x+\\Delta x) - cf(x)}{\\Delta x}$$\n",
    "\n",
    "$$ = \\lim_{\\Delta x \\to 0} c\\left(\\frac{f(x+\\Delta x) - f(x)}{\\Delta x}\\right)$$\n",
    "\n",
    "$$ = c \\cdot \\lim_{\\Delta x \\to 0} \\frac{f(x+\\Delta x) - f(x)}{\\Delta x}$$\n",
    "\n",
    "$$= c \\cdot \\frac{\\mathrm{d}}{\\mathrm{d}x}f(x)$$"
   ]
  },
  {
   "cell_type": "markdown",
   "metadata": {},
   "source": [
    "### Tangent to Graph of Polynomial"
   ]
  },
  {
   "cell_type": "code",
   "execution_count": null,
   "metadata": {},
   "outputs": [],
   "source": [
    "YouTubeVideo('rfx1x-2dwSI')"
   ]
  },
  {
   "cell_type": "markdown",
   "metadata": {},
   "source": [
    "compute the tangent line to the curve $y = x^3 - x$ at point $(2,6)$\n",
    "\n",
    "$$y' = 3x^2 - 1$$\n",
    "\n",
    "$$y'(2) = 11$$\n",
    "\n",
    "slope of tangent line\n",
    "\n",
    "so the equation of the tangent line is \n",
    "\n",
    "$$y-6=11(x-2)$$\n",
    "\n",
    "or \n",
    "\n",
    "$$y = 11x - 16 $$"
   ]
  }
 ],
 "metadata": {
  "kernelspec": {
   "display_name": "Python 3",
   "language": "python",
   "name": "python3"
  },
  "language_info": {
   "codemirror_mode": {
    "name": "ipython",
    "version": 3
   },
   "file_extension": ".py",
   "mimetype": "text/x-python",
   "name": "python",
   "nbconvert_exporter": "python",
   "pygments_lexer": "ipython3",
   "version": "3.6.3"
  }
 },
 "nbformat": 4,
 "nbformat_minor": 2
}
