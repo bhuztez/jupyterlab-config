{
 "cells": [
  {
   "cell_type": "markdown",
   "metadata": {},
   "source": [
    "# Session 2: Examples of Derivatives"
   ]
  },
  {
   "cell_type": "markdown",
   "metadata": {},
   "source": [
    "## Clip 1: Example 1: y=1/x"
   ]
  },
  {
   "cell_type": "code",
   "execution_count": null,
   "metadata": {},
   "outputs": [],
   "source": [
    "YouTubeVideo('7K1sB05pE0A', start=1001, end=1528)"
   ]
  },
  {
   "cell_type": "markdown",
   "metadata": {},
   "source": [
    "[Accompanying Notes (PDF)](https://ocw.mit.edu/courses/mathematics/18-01sc-single-variable-calculus-fall-2010/1.-differentiation/part-a-definition-and-basic-rules/session-2-examples-of-derivatives/MIT18_01SCF10_Ses2a.pdf)"
   ]
  },
  {
   "cell_type": "markdown",
   "metadata": {},
   "source": [
    "Example 1\n",
    "\n",
    "$f(x) = \\frac{1}{x}$ (pronounce as _1 over x_)"
   ]
  },
  {
   "cell_type": "markdown",
   "metadata": {},
   "source": [
    "$$f'(x_0) = \\lim_{\\Delta x \\to 0} \\frac{f(x_0+\\Delta x)- f(x_0)}{\\Delta x}$$"
   ]
  },
  {
   "cell_type": "markdown",
   "metadata": {},
   "source": [
    "Difference quotient\n",
    "\n",
    "$$\\frac{\\Delta f}{\\Delta x} = \\frac{\\frac{1}{x_0+\\Delta x}-\\frac{1}{x_0}}{\\Delta x}$$\n",
    "\n",
    "factoring out denominator $\\frac{1}{\\Delta x}$\n",
    "\n",
    "$$= \\frac{1}{{\\Delta x}}\\left(\\frac{1}{x_0+\\Delta x}-\\frac{1}{x_0}\\right)$$\n",
    "\n",
    "put it over a common denominator\n",
    "\n",
    "$$ = \\frac{1}{\\Delta x}\\left(\\frac{x_0 - (x_0 + \\Delta x)}{(x+\\Delta x)x_0}\\right)$$\n",
    "\n",
    "$x_0$ and $x_0$ cancel\n",
    "\n",
    "$$ = \\frac{1}{\\Delta x} \\left(\\frac{-\\Delta x}{(x_0+\\Delta x)x_0}\\right)$$\n",
    "\n",
    "the numerator and denominator cancel\n",
    "\n",
    "$$ = \\frac{-1}{(x_0+\\Delta x)x_0}$$"
   ]
  },
  {
   "cell_type": "markdown",
   "metadata": {},
   "source": [
    "$\\Delta x \\to 0$\n",
    "\n",
    "$$ = \\frac{-1}{x_0^2} $$\n",
    "\n",
    "$$ f'(x_0) = \\frac{-1}{x_0^2} $$"
   ]
  },
  {
   "cell_type": "markdown",
   "metadata": {},
   "source": [
    "## Clip 2: Harder Problem: Triangles Under the Graph of y=1/x "
   ]
  },
  {
   "cell_type": "code",
   "execution_count": null,
   "metadata": {},
   "outputs": [],
   "source": [
    "YouTubeVideo('7K1sB05pE0A', start=1528, end=2474)"
   ]
  },
  {
   "cell_type": "markdown",
   "metadata": {},
   "source": [
    "[Accompanying Notes (PDF)](https://ocw.mit.edu/courses/mathematics/18-01sc-single-variable-calculus-fall-2010/1.-differentiation/part-a-definition-and-basic-rules/session-2-examples-of-derivatives/MIT18_01SCF10_Ses2b.pdf)"
   ]
  },
  {
   "cell_type": "markdown",
   "metadata": {},
   "source": [
    "FIND AREAS OF TRIANGLES\n",
    "\n",
    "ENCLOSED BY AXES\n",
    "\n",
    "AND TANGENT TO\n",
    "\n",
    "$ y = \\frac{1}{x} $"
   ]
  },
  {
   "cell_type": "code",
   "execution_count": null,
   "metadata": {},
   "outputs": [],
   "source": [
    "plot = Plot(\n",
    "    plt.xkcd,\n",
    "    {'font.size': 20,\n",
    "     'lines.markersize': 10})\n",
    "\n",
    "@plot\n",
    "def init_ax(ax):\n",
    "    ax.set_aspect(1)\n",
    "    ax.set_axis_off()\n",
    "    ax.set_xlim(-1,4)\n",
    "    ax.set_ylim(-0.2,3)\n",
    "    ax.axhline(c='k')\n",
    "    ax.axvline(c='k')\n",
    "\n",
    "# https://stackoverflow.com/a/9877279\n",
    "def tangent_line(f, x0):\n",
    "    fp = derivative(f)\n",
    "    y0 = f(x0)\n",
    "    m = fp(x0)\n",
    "\n",
    "    def line(x):\n",
    "        return y0 + m * (x - x0)\n",
    "\n",
    "    return line\n",
    "    \n",
    "x = np.linspace(0.4, 4, 500)\n",
    "\n",
    "def f(x):\n",
    "    return 1/x\n",
    "\n",
    "@plot\n",
    "def draw_curve(ax, f, x):\n",
    "    ax.plot(x, f(x), 'k', label=r'$y = \\frac{1}{x}$')\n",
    "    ax.legend()\n",
    "\n",
    "x0 = 1.5\n",
    "\n",
    "@plot\n",
    "def draw_tangent_triangle(ax, f, x0):\n",
    "    t = tangent_line(f, x0)\n",
    "    x = np.linspace(-0.5, 4, 500)\n",
    "    ax.plot(x, t(x), 'r')\n",
    "    x = np.linspace(0, 3, 500)\n",
    "    ax.fill_between(x, t(x), 0, edgecolor='r', facecolor='w', hatch='//')\n",
    "\n",
    "plot.show()"
   ]
  },
  {
   "cell_type": "code",
   "execution_count": null,
   "metadata": {},
   "outputs": [],
   "source": [
    "@plot\n",
    "def draw_point(ax, f, x0):\n",
    "    ax.plot(x0, f(x0), 'k.')\n",
    "    ax.text(x0, f(x0) + 0.2, '$(x_0, y_0)$')\n",
    "\n",
    "plot.show()"
   ]
  },
  {
   "cell_type": "code",
   "execution_count": null,
   "metadata": {},
   "outputs": [],
   "source": [
    "@plot\n",
    "def draw_x0_y0(ax, f, x0):\n",
    "    ax.plot(x0, 0, 'k|')\n",
    "    ax.text(x0, 0-0.1, '$x_0$', ha='center',va='top')\n",
    "    ax.plot(0, f(x0), 'k_')\n",
    "    ax.text(0-0.1, f(x0), '$y_0$', va='center', ha='right')\n",
    "\n",
    "plot.show()"
   ]
  },
  {
   "cell_type": "markdown",
   "metadata": {},
   "source": [
    "(*) $$ y - y_0 = \\frac{-1}{x_0^2}(x - x_0) $$\n",
    "\n",
    "Find x-intercept ($y = 0$)\n",
    "\n",
    "$$ 0 - \\frac{1}{x_0} = \\frac{-1}{x_0^2}(x - x_0) = \\frac{-x}{x_0} + \\frac{1}{x_0} $$\n",
    "\n",
    "$$ \\frac{x}{x_0^2} = \\frac{2}{x_0} $$\n",
    "\n",
    "$$ x = 2x_0 $$\n",
    "\n",
    "Shortcut to y-intercept\n",
    "\n",
    "use symmetry\n",
    "\n",
    "$$y = 2y_0$$\n",
    "\n",
    "mirror symmetry around diagonal.\n",
    "\n",
    "exchange of (x,y) with (x,y)\n",
    "\n",
    "symmetry explanation\n",
    "\n",
    "$$ y = \\frac{1}{x} \\Leftrightarrow xy=1 \\Leftrightarrow x = \\frac{1}{y} $$\n",
    "\n",
    "can also get y-intercept by plugging x=0 into (*)"
   ]
  },
  {
   "cell_type": "markdown",
   "metadata": {},
   "source": [
    "AREA of triangle\n",
    "\n",
    "$$\\frac{1}{2}(2x_0)(2y_0) = 2x_0y_0 = 2$$"
   ]
  },
  {
   "cell_type": "markdown",
   "metadata": {},
   "source": [
    "## Clip 3: Notation for Derivatives"
   ]
  },
  {
   "cell_type": "code",
   "execution_count": null,
   "metadata": {},
   "outputs": [],
   "source": [
    "YouTubeVideo('7K1sB05pE0A', start=2474, end=2607)"
   ]
  },
  {
   "cell_type": "markdown",
   "metadata": {},
   "source": [
    "[Accompanying Notes (PDF)](https://ocw.mit.edu/courses/mathematics/18-01sc-single-variable-calculus-fall-2010/1.-differentiation/part-a-definition-and-basic-rules/session-2-examples-of-derivatives/MIT18_01SCF10_Ses2c.pdf)"
   ]
  },
  {
   "cell_type": "markdown",
   "metadata": {},
   "source": [
    "Newton's Leibniz\n",
    "\n",
    "$$f' = \\frac{\\mathrm{d}}{\\mathrm{d}x}f$$"
   ]
  },
  {
   "cell_type": "markdown",
   "metadata": {},
   "source": [
    "## Clip 4: Example 2: y=xn"
   ]
  },
  {
   "cell_type": "code",
   "execution_count": null,
   "metadata": {},
   "outputs": [],
   "source": [
    "YouTubeVideo('7K1sB05pE0A', start=2607, end=3092)"
   ]
  },
  {
   "cell_type": "markdown",
   "metadata": {},
   "source": [
    "[Accompanying Notes (PDF)](https://ocw.mit.edu/courses/mathematics/18-01sc-single-variable-calculus-fall-2010/1.-differentiation/part-a-definition-and-basic-rules/session-2-examples-of-derivatives/MIT18_10SCF10_Ses2d.pdf)"
   ]
  },
  {
   "cell_type": "markdown",
   "metadata": {},
   "source": [
    "Example 2\n",
    "\n",
    "$$f(x) = x^n, x = 1, 2, 3, ...$$ one of theses guys\n",
    "\n",
    "$$\\frac{\\mathrm{d}}{\\mathrm{d}x}x^n = ?$$\n",
    "\n",
    "$$\\frac{\\Delta f}{\\Delta x} = \\frac{(x+\\Delta x)^n - x^n}{\\Delta x}$$\n",
    "\n",
    "binomial theorem\n",
    "\n",
    "$$(x+\\Delta x)^n = x^n + n x^{n-1}\\Delta x + O((\\Delta x)^2)$$\n",
    "\n",
    "\n",
    "$$\\frac{\\Delta f}{\\Delta x} = \\frac{1}{\\Delta x}\\left( (x+\\Delta x)^n - x^n \\right)$$\n",
    "\n",
    "$$= \\frac{1}{\\Delta x}(x^n + n x^{n-1}\\Delta x + O((\\Delta x)^2) - x^n)$$\n",
    "\n",
    "$$= \\frac{1}{\\Delta x}( n x^{n-1}\\Delta x + O((\\Delta x)^2))$$\n",
    "\n",
    "$$= n x^{n-1}\\Delta x + O((\\Delta x))$$\n",
    "\n",
    "$\\Delta x \\to 0$\n",
    "\n",
    "$$= n x^{n-1}$$\n",
    "\n",
    "$$\\frac{\\mathrm{d}}{\\mathrm{d}x}x^n = nx^{n-1}$$\n",
    "\n",
    "Extends to polynomials\n",
    "\n",
    "$$\\frac{\\mathrm{d}}{\\mathrm{d}x}\\left(x^3+5x^10\\right) = 3x^2 + 50x^9$$"
   ]
  },
  {
   "cell_type": "markdown",
   "metadata": {},
   "source": [
    "## Worked Example"
   ]
  },
  {
   "cell_type": "markdown",
   "metadata": {},
   "source": [
    "[Problem (PDF)](https://ocw.mit.edu/courses/mathematics/18-01sc-single-variable-calculus-fall-2010/1.-differentiation/part-a-definition-and-basic-rules/session-2-examples-of-derivatives/MIT18_01SCF10_ex02prb.pdf)"
   ]
  },
  {
   "cell_type": "markdown",
   "metadata": {},
   "source": [
    "The slope of the graph of $f(x) = \\left\\vert x \\right\\vert$ changes abruptly when $x = 0$. Does this function have a derivative? If so, what is it? If not, why not?"
   ]
  }
 ],
 "metadata": {
  "kernelspec": {
   "display_name": "Python 3",
   "language": "python",
   "name": "python3"
  },
  "language_info": {
   "codemirror_mode": {
    "name": "ipython",
    "version": 3
   },
   "file_extension": ".py",
   "mimetype": "text/x-python",
   "name": "python",
   "nbconvert_exporter": "python",
   "pygments_lexer": "ipython3",
   "version": "3.6.3"
  }
 },
 "nbformat": 4,
 "nbformat_minor": 2
}
