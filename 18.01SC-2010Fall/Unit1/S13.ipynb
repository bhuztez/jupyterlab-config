{
 "cells": [
  {
   "cell_type": "markdown",
   "metadata": {},
   "source": [
    "# Session 13: Implicit Differentiation"
   ]
  },
  {
   "cell_type": "markdown",
   "metadata": {},
   "source": [
    "Example\n",
    "\n",
    "$$\\frac{\\mathrm{d}}{\\mathrm{d}x} x^a = ax^{a-1}$$\n",
    "\n",
    "so far: $a = 0, \\pm 1, \\pm 2, \\cdots$\n",
    "\n",
    "today: $a = m/n$, m, n integers\n",
    "\n",
    "y is equal to x to the power of m over n\n",
    "\n",
    "(1) $y = x^{m/n}$\n",
    "\n",
    "(2) $y^n = x^m$\n",
    "\n",
    "apply $\\frac{\\mathrm{d}}{\\mathrm{d}x}$ to (2)\n",
    "\n",
    "$$\\frac{\\mathrm{d}}{\\mathrm{d}x} y^n = \\frac{\\mathrm{d}}{\\mathrm{d}x} x^m$$\n",
    "\n",
    "\n",
    "$$(\\frac{\\mathrm{d}}{\\mathrm{d}y} y^n)\\frac{\\mathrm{d}y}{\\mathrm{d}x} = m x^{m-1}$$\n",
    "\n",
    "$$ny^{n-1}\\frac{\\mathrm{d}y}{\\mathrm{d}x} = m x^{m-1}$$\n",
    "\n",
    "$$\\frac{\\mathrm{d}y}{\\mathrm{d}x} = \\frac{m x^{m-1}}{ny^{n-1}}$$\n",
    "\n",
    "$$= \\frac{m}{n} \\frac{x^{m-1}}{(x^{m/n})^{n-1}}$$\n",
    "\n",
    "$$= a x^{m-1-(n-1)\\frac{m}{n}}$$\n",
    "\n",
    "$$m-1-(n-1)\\frac{m}{n}$$\n",
    "\n",
    "$$= m - 1 - m + \\frac{m}{n}$$\n",
    "\n",
    "$$ = a - 1$$"
   ]
  }
 ],
 "metadata": {
  "kernelspec": {
   "display_name": "Python 3",
   "language": "python",
   "name": "python3"
  },
  "language_info": {
   "codemirror_mode": {
    "name": "ipython",
    "version": 3
   },
   "file_extension": ".py",
   "mimetype": "text/x-python",
   "name": "python",
   "nbconvert_exporter": "python",
   "pygments_lexer": "ipython3",
   "version": "3.6.3"
  }
 },
 "nbformat": 4,
 "nbformat_minor": 2
}
