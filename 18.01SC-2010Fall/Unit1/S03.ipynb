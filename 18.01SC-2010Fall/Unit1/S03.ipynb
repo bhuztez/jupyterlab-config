{
 "cells": [
  {
   "cell_type": "markdown",
   "metadata": {},
   "source": [
    "# Session 3: Derivative as Rate of Change"
   ]
  },
  {
   "cell_type": "markdown",
   "metadata": {},
   "source": [
    "## Clip 1: Introduction to Rates of Change"
   ]
  },
  {
   "cell_type": "code",
   "execution_count": null,
   "metadata": {},
   "outputs": [],
   "source": [
    "YouTubeVideo('ryLdyDrBfvI', start=20, end=104)"
   ]
  },
  {
   "cell_type": "markdown",
   "metadata": {},
   "source": [
    "[Accompanying Notes (PDF)](https://ocw.mit.edu/courses/mathematics/18-01sc-single-variable-calculus-fall-2010/1.-differentiation/part-a-definition-and-basic-rules/session-3-derivative-as-rate-of-change/MIT18_01SCF10_Ses3a.pdf)"
   ]
  },
  {
   "cell_type": "markdown",
   "metadata": {},
   "source": [
    "LAST TIME\n",
    "\n",
    "DERIVATIVE = SLOP OF TANGENT LINE\n",
    "\n",
    "$$ \\frac{\\mathrm{d}}{\\mathrm{d}x} \\frac{1}{x} = \\frac{-1}{x^2}$$\n",
    "\n",
    "$$ \\frac{\\mathrm{d}}{\\mathrm{d}x} x^n = nx^{n-1}, n=1,2,3,...$$"
   ]
  },
  {
   "cell_type": "markdown",
   "metadata": {},
   "source": [
    "## Clip 2: Rates of Change "
   ]
  },
  {
   "cell_type": "code",
   "execution_count": null,
   "metadata": {},
   "outputs": [],
   "source": [
    "YouTubeVideo('ryLdyDrBfvI', start=104, end=243)"
   ]
  },
  {
   "cell_type": "markdown",
   "metadata": {},
   "source": [
    "[Accompanying Notes (PDF)](https://ocw.mit.edu/courses/mathematics/18-01sc-single-variable-calculus-fall-2010/1.-differentiation/part-a-definition-and-basic-rules/session-3-derivative-as-rate-of-change/MIT18_01SCF10_Ses3b.pdf)"
   ]
  },
  {
   "cell_type": "markdown",
   "metadata": {},
   "source": [
    "WHAT IS A DERIVATIVE?\n",
    "\n",
    "RATE OF CHANGE"
   ]
  },
  {
   "cell_type": "code",
   "execution_count": null,
   "metadata": {},
   "outputs": [],
   "source": [
    "plot = Plot(\n",
    "    plt.xkcd,\n",
    "    {'font.size': 20,\n",
    "     'lines.markersize': 10})\n",
    "\n",
    "def f(x):\n",
    "    return 1-0.25*x**2\n",
    "\n",
    "x = np.linspace(-2.5, 0, 500)\n",
    "\n",
    "@plot\n",
    "def init_ax(ax):\n",
    "    ax.set_aspect(1)\n",
    "    ax.set_axis_off()\n",
    "    ax.set_xlim(-3,0)\n",
    "    ax.set_ylim(0,2)\n",
    "    \n",
    "x0 = -1.75\n",
    "x1 = -0.75\n",
    "\n",
    "@plot\n",
    "def draw_curve(ax, f, x):\n",
    "    y0 = f(x0)\n",
    "    y1 = f(x1)\n",
    "    ax.plot(x, f(x), 'k', label=r'$y = f(x)$')\n",
    "    ax.plot([x0, x1], [y0, y0], 'k')\n",
    "    ax.plot([x1, x1], [y0, y1], 'k')\n",
    "    ax.text((x0+x1)/2, y0-0.1, '$\\Delta x$', ha='center', va='top')\n",
    "    ax.text(x1+0.1, (y0+y1)/2, '$\\Delta y$', va='center') \n",
    "    ax.legend()\n",
    "\n",
    "    \n",
    "plot.show()"
   ]
  },
  {
   "cell_type": "markdown",
   "metadata": {},
   "source": [
    "$$\\frac{\\Delta y}{\\Delta x}$$\n",
    "\n",
    "average change\n",
    "\n",
    "$$\\frac{\\mathrm{d}y}{\\mathrm{d}x}$$\n",
    "\n",
    "instantaneous rate"
   ]
  },
  {
   "cell_type": "markdown",
   "metadata": {},
   "source": [
    "## Clip 3: Physical Interpretation of Derivatives"
   ]
  },
  {
   "cell_type": "code",
   "execution_count": null,
   "metadata": {},
   "outputs": [],
   "source": [
    "YouTubeVideo('ryLdyDrBfvI', start=243, end=711)"
   ]
  },
  {
   "cell_type": "markdown",
   "metadata": {},
   "source": [
    "[Accompanying Notes (PDF)](https://ocw.mit.edu/courses/mathematics/18-01sc-single-variable-calculus-fall-2010/1.-differentiation/part-a-definition-and-basic-rules/session-3-derivative-as-rate-of-change/MIT18_01SCF10_Ses3c.pdf)"
   ]
  },
  {
   "cell_type": "markdown",
   "metadata": {},
   "source": [
    "Examples\n",
    "\n",
    "1. $q = $ charge, $\\frac{\\mathrm{d}q}{\\mathrm{d}t} = $ current\n",
    "2. $s = $ distance, $\\frac{\\mathrm{d}s}{\\mathrm{d}t} = $ speed"
   ]
  },
  {
   "cell_type": "markdown",
   "metadata": {},
   "source": [
    "$$ h = 80 - 5t^2$$ meters\n",
    "\n",
    "$$t=0, h=80$$\n",
    "\n",
    "$$t=4, h=0$$\n",
    "\n",
    "avg speed\n",
    "\n",
    "$$\\frac{\\Delta h}{\\Delta t}=\\frac{0-40}{4-0} = -20$$ m/sec\n",
    "\n",
    "instaneous speed\n",
    "\n",
    "$$\\frac{\\mathrm{d}}{\\mathrm{d}t} h = 0 - 10t$$\n",
    "\n",
    "$$ \\frac{\\mathrm{d}}{\\mathrm{d}t} 80 = 0, \\frac{\\mathrm{d}}{\\mathrm{d}t} t^2 = 2t$$\n",
    "\n",
    "$$t=4, h'=-40$$ m/sec"
   ]
  },
  {
   "cell_type": "markdown",
   "metadata": {},
   "source": [
    "## Clip 4: Physical Interpretation of Derivatives, Continued"
   ]
  },
  {
   "cell_type": "code",
   "execution_count": null,
   "metadata": {},
   "outputs": [],
   "source": [
    "YouTubeVideo('ryLdyDrBfvI', start=711, end=1081)"
   ]
  },
  {
   "cell_type": "markdown",
   "metadata": {},
   "source": [
    "[Accompanying Notes (PDF)](https://ocw.mit.edu/courses/mathematics/18-01sc-single-variable-calculus-fall-2010/1.-differentiation/part-a-definition-and-basic-rules/session-3-derivative-as-rate-of-change/MIT18_01SCF10_Ses3d.pdf)"
   ]
  },
  {
   "cell_type": "markdown",
   "metadata": {},
   "source": [
    "3. $T =$ temperature, $\\frac{\\mathrm{d}T}{\\mathrm{d}x} =$ temperature gradient\n",
    "\n",
    "4. sensitivity of measurements"
   ]
  },
  {
   "cell_type": "markdown",
   "metadata": {},
   "source": [
    "## Worked Example"
   ]
  },
  {
   "cell_type": "markdown",
   "metadata": {},
   "source": [
    "[Problem (PDF)](https://ocw.mit.edu/courses/mathematics/18-01sc-single-variable-calculus-fall-2010/1.-differentiation/part-a-definition-and-basic-rules/session-3-derivative-as-rate-of-change/MIT18_01SCF10_ex03prb.pdf)"
   ]
  },
  {
   "cell_type": "markdown",
   "metadata": {},
   "source": [
    "Checking Account Balances\n",
    "\n",
    "The derivative of a function $f(t)$ describes how the function’s output changes as the value of $t$ changes.\n",
    "\n",
    "Suppose that a checking account has balance $f(t)=-5t^2 + 60t + 120$ dollars $t$ months into the year, and that the derivative (rate of change) of the account balance is given by $f'(t) = -10t + 60$.\n",
    "\n",
    "1. Compute $f'(1)$. If $f'(1)$ is approximately equal to the rate of change of the account balance during the month of January, will the account balance in February be greater or less than the balance in January?\n",
    "2. Compute $f'(10)$. Does the account balance continue to increase through out the year? How do you know?\n",
    "3. During which month is the account balance greatest? What is the value of $f'(t)$ at this time?"
   ]
  }
 ],
 "metadata": {
  "kernelspec": {
   "display_name": "Python 3",
   "language": "python",
   "name": "python3"
  },
  "language_info": {
   "codemirror_mode": {
    "name": "ipython",
    "version": 3
   },
   "file_extension": ".py",
   "mimetype": "text/x-python",
   "name": "python",
   "nbconvert_exporter": "python",
   "pygments_lexer": "ipython3",
   "version": "3.6.3"
  }
 },
 "nbformat": 4,
 "nbformat_minor": 2
}
