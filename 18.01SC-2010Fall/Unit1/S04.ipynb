{
 "cells": [
  {
   "cell_type": "markdown",
   "metadata": {},
   "source": [
    "#  Session 4: Limits and Continuity"
   ]
  },
  {
   "cell_type": "markdown",
   "metadata": {},
   "source": [
    "## Clip 1: Limits"
   ]
  },
  {
   "cell_type": "code",
   "execution_count": null,
   "metadata": {},
   "outputs": [],
   "source": [
    "YouTubeVideo('ryLdyDrBfvI', start=1081, end=1624)"
   ]
  },
  {
   "cell_type": "markdown",
   "metadata": {},
   "source": [
    "[Accompanying Notes (PDF)](https://ocw.mit.edu/courses/mathematics/18-01sc-single-variable-calculus-fall-2010/1.-differentiation/part-a-definition-and-basic-rules/session-4-limits-and-continuity/MIT18_01SCF10_Ses4a.pdf)"
   ]
  },
  {
   "cell_type": "markdown",
   "metadata": {},
   "source": [
    "Easy limits\n",
    "\n",
    "$$\\lim_{x \\to 4} = \\frac{x+3}{x^2+1} = \\frac{4+3}{4^2+1} = \\frac{7}{17}$$\n",
    "\n",
    "Derivatives are always harder:\n",
    "\n",
    "$$\\lim_{\\Delta x \\to 0}\\frac{f(x_0+\\Delta x)-f(x_0)}{\\Delta x} $$\n",
    "\n",
    "right-hand limit\n",
    "\n",
    "$$\\lim_{x \\to x_0^+} f(x)$$\n",
    "\n",
    "$$x \\to x_0, x>x_0$$\n",
    "\n",
    "left-hand limit\n",
    "\n",
    "$$\\lim_{x \\to x_0^-} f(x)$$\n",
    "\n",
    "$$x \\to x_0, x<x_0$$"
   ]
  },
  {
   "cell_type": "markdown",
   "metadata": {},
   "source": [
    "Example\n",
    "\n",
    "$$ f(x) =\n",
    "\\begin{cases}\n",
    "x+1, x>0 \\\\\n",
    "-x+2, x<0\n",
    "\\end{cases} $$\n",
    "\n",
    "$$\\lim_{x \\to 0^+} f(x) = \\lim_{x \\to 0} x + 1 = 1 $$\n",
    "\n",
    "$$\\lim_{x \\to 0^-} f(x) = \\lim_{x \\to 0} -x + 2 = 2 $$\n",
    "\n",
    "did not need x=0 value"
   ]
  },
  {
   "cell_type": "markdown",
   "metadata": {},
   "source": [
    "##  Clip 2: Continuity"
   ]
  },
  {
   "cell_type": "code",
   "execution_count": null,
   "metadata": {},
   "outputs": [],
   "source": [
    "YouTubeVideo('ryLdyDrBfvI', start=1624, end=1836)"
   ]
  },
  {
   "cell_type": "markdown",
   "metadata": {},
   "source": [
    "[Accompanying Notes (PDF)](https://ocw.mit.edu/courses/mathematics/18-01sc-single-variable-calculus-fall-2010/1.-differentiation/part-a-definition-and-basic-rules/session-4-limits-and-continuity/MIT18_01SCF10_Ses4b.pdf)"
   ]
  },
  {
   "cell_type": "markdown",
   "metadata": {},
   "source": [
    "DEF'N $f$ is continuous at $x_0$ means\n",
    "\n",
    "$$\\lim_{x \\to x_0} f(x) = f(x_0)$$\n",
    "\n",
    "1. $\\lim_{x \\to x_0} f(x)$ exists from L and R, L=R\n",
    "2. $f(x_0)$ is defined\n",
    "3. they are equal"
   ]
  },
  {
   "cell_type": "markdown",
   "metadata": {},
   "source": [
    "## Recitation"
   ]
  },
  {
   "cell_type": "code",
   "execution_count": null,
   "metadata": {},
   "outputs": [],
   "source": [
    "YouTubeVideo('Fj7pbLwbSmU')"
   ]
  },
  {
   "cell_type": "markdown",
   "metadata": {},
   "source": [
    "For what values of a and b is the following function\n",
    "\n",
    "(1) continuous?\n",
    "\n",
    "(2) differentiable?\n",
    "\n",
    "$$\n",
    "f(x) =\n",
    "\\begin{cases}\n",
    "x^2+1 if x > 1 \\\\\n",
    "ax+b if x \\le 1 \\\\\n",
    "\\end{cases}$$\n",
    "\n",
    "(1) Need a and b so that at $x = 1, y = 2$\n",
    "\n",
    "$$2 = a \\cdot 1 + b$$\n",
    "\n",
    "$$2 = a + b$$\n",
    "\n",
    "(2) \n",
    "\n",
    "$$\\lim_{x\\to1^-} f'(x) = \\lim_{x\\to1^+} f'(x)$$\n",
    "\n",
    "$$\\lim_{x\\to1^-} a = \\lim_{x\\to1^+} 2x$$\n",
    "\n",
    "$$a = 2$$\n",
    "\n",
    "$$b = 0$$"
   ]
  },
  {
   "cell_type": "markdown",
   "metadata": {},
   "source": [
    "## Worked Example"
   ]
  },
  {
   "cell_type": "markdown",
   "metadata": {},
   "source": [
    "[Problem (PDF)](https://ocw.mit.edu/courses/mathematics/18-01sc-single-variable-calculus-fall-2010/1.-differentiation/part-a-definition-and-basic-rules/session-4-limits-and-continuity/MIT18_01SCF10_ex04prb.pdf)"
   ]
  },
  {
   "cell_type": "markdown",
   "metadata": {},
   "source": [
    "Continuous but not Smooth\n",
    "\n",
    "Find values of the constants $a$ and $b$ for which the following function is contin­\n",
    "uous but *not* differentiable.\n",
    "\n",
    "$$ f(x) =\n",
    "\\begin{cases}\n",
    "ax + b, x > 0; \\\\\n",
    "\\sin 2x, x \\le 0.\n",
    "\\end{cases}\n",
    "$$\n",
    "\n",
    "In other words, the graph of the function should have a sharp corner at the pont\n",
    "$(0, f(0))$."
   ]
  }
 ],
 "metadata": {
  "kernelspec": {
   "display_name": "Python 3",
   "language": "python",
   "name": "python3"
  },
  "language_info": {
   "codemirror_mode": {
    "name": "ipython",
    "version": 3
   },
   "file_extension": ".py",
   "mimetype": "text/x-python",
   "name": "python",
   "nbconvert_exporter": "python",
   "pygments_lexer": "ipython3",
   "version": "3.6.3"
  }
 },
 "nbformat": 4,
 "nbformat_minor": 2
}
