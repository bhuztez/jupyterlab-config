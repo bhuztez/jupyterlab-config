{
 "cells": [
  {
   "cell_type": "markdown",
   "metadata": {},
   "source": [
    "# Session 5: Discontinuity"
   ]
  },
  {
   "cell_type": "markdown",
   "metadata": {},
   "source": [
    "## Clip 1: Jump Discontinuities"
   ]
  },
  {
   "cell_type": "code",
   "execution_count": null,
   "metadata": {},
   "outputs": [],
   "source": [
    "YouTubeVideo('ryLdyDrBfvI', start=1836, end=1993)"
   ]
  },
  {
   "cell_type": "markdown",
   "metadata": {},
   "source": [
    "[Accompanying Notes (PDF)](https://ocw.mit.edu/courses/mathematics/18-01sc-single-variable-calculus-fall-2010/1.-differentiation/part-a-definition-and-basic-rules/session-5-discontinuity/MIT18_01SCF10_Ses5a.pdf)"
   ]
  },
  {
   "cell_type": "markdown",
   "metadata": {},
   "source": [
    "lim from left and right exist but not equal"
   ]
  },
  {
   "cell_type": "markdown",
   "metadata": {},
   "source": [
    "## Clip 2: Removable Discontinuities"
   ]
  },
  {
   "cell_type": "code",
   "execution_count": null,
   "metadata": {},
   "outputs": [],
   "source": [
    "YouTubeVideo('ryLdyDrBfvI', start=1993, end=2242)"
   ]
  },
  {
   "cell_type": "markdown",
   "metadata": {},
   "source": [
    "[Accompanying Notes (PDF)](https://ocw.mit.edu/courses/mathematics/18-01sc-single-variable-calculus-fall-2010/1.-differentiation/part-a-definition-and-basic-rules/session-5-discontinuity/MIT18_01SCF10_Ses5b.pdf)"
   ]
  },
  {
   "cell_type": "markdown",
   "metadata": {},
   "source": [
    "lim from left and right are equal\n",
    "\n",
    "Example\n",
    "\n",
    "$$g(x) = \\frac{\\sin x}{x}$$\n",
    "\n",
    "g(0) is not defined\n",
    "\n",
    "$$\\lim_{x \\to 0} \\frac{\\sin x}{x} = 1$$\n",
    "\n",
    "$$h(x) = \\frac{1-\\cos x}{x}$$\n",
    "\n",
    "$$\\lim_{x \\to 0} \\frac{1-\\cos x}{x} = 0$$\n",
    "\n",
    "removable discent at x = 0"
   ]
  },
  {
   "cell_type": "markdown",
   "metadata": {},
   "source": [
    "## Clip 3: Infinite Discontinuities"
   ]
  },
  {
   "cell_type": "code",
   "execution_count": null,
   "metadata": {},
   "outputs": [],
   "source": [
    "YouTubeVideo('ryLdyDrBfvI', start=2242, end=2590)"
   ]
  },
  {
   "cell_type": "markdown",
   "metadata": {},
   "source": [
    "[Accompanying Notes (PDF)](https://ocw.mit.edu/courses/mathematics/18-01sc-single-variable-calculus-fall-2010/1.-differentiation/part-a-definition-and-basic-rules/session-5-discontinuity/MIT18_01SCF10_Ses5c.pdf)"
   ]
  },
  {
   "cell_type": "markdown",
   "metadata": {},
   "source": [
    "$$y = \\frac{1}{x}$$\n",
    "\n",
    "$$\\lim_{x\\to0^+} \\frac{1}{x} = \\infty $$\n",
    "\n",
    "$$\\lim_{x\\to0^-} \\frac{1}{x} = - \\infty $$\n",
    "\n",
    "$$y' = \\frac{-1}{x^2}$$\n",
    "\n",
    "$$\\lim_{x\\to0} \\frac{-1}{x^2} = \\infty$$"
   ]
  },
  {
   "cell_type": "markdown",
   "metadata": {},
   "source": [
    "## Clip 4: Other (Ugly) Discontinuities"
   ]
  },
  {
   "cell_type": "code",
   "execution_count": null,
   "metadata": {},
   "outputs": [],
   "source": [
    "YouTubeVideo('ryLdyDrBfvI', start=2590, end=2689)"
   ]
  },
  {
   "cell_type": "markdown",
   "metadata": {},
   "source": [
    "[Accompanying Notes (PDF)](https://ocw.mit.edu/courses/mathematics/18-01sc-single-variable-calculus-fall-2010/1.-differentiation/part-a-definition-and-basic-rules/session-5-discontinuity/MIT18_01SCF10_Ses5d.pdf)"
   ]
  },
  {
   "cell_type": "markdown",
   "metadata": {},
   "source": [
    "$y = \\sin \\frac{1}{x}$, as $x \\to 0$\n",
    "\n",
    "no left or right limit"
   ]
  },
  {
   "cell_type": "markdown",
   "metadata": {},
   "source": [
    "## Clip 5: Differentiable Implies Continuous"
   ]
  },
  {
   "cell_type": "code",
   "execution_count": null,
   "metadata": {},
   "outputs": [],
   "source": [
    "YouTubeVideo('ryLdyDrBfvI', start=2689, end=3167)"
   ]
  },
  {
   "cell_type": "markdown",
   "metadata": {},
   "source": [
    "[Accompanying Notes (PDF)](https://ocw.mit.edu/courses/mathematics/18-01sc-single-variable-calculus-fall-2010/1.-differentiation/part-a-definition-and-basic-rules/session-5-discontinuity/MIT18_01SCF10_Ses5e.pdf)"
   ]
  },
  {
   "cell_type": "markdown",
   "metadata": {},
   "source": [
    "THEOREM DIFF => CTS\n",
    "\n",
    "If f is differentiable at $x_0$, then f is continuous at $x_0$\n",
    "\n",
    "PROOF\n",
    "\n",
    "$$\\lim_{x \\to x_0} f(x) - f(x_0)$$\n",
    "\n",
    "$$= \\lim_{x \\to x_0} \\frac{f(x) - f(x_0)}{x - x_0}(x-x_0)$$\n",
    "\n",
    "$$= f'(x_0) \\cdot 0 $$\n",
    "\n",
    "$$= 0 $$"
   ]
  },
  {
   "cell_type": "markdown",
   "metadata": {},
   "source": [
    "## Worked Example"
   ]
  },
  {
   "cell_type": "markdown",
   "metadata": {},
   "source": [
    "[Problem (PDF)](https://ocw.mit.edu/courses/mathematics/18-01sc-single-variable-calculus-fall-2010/1.-differentiation/part-a-definition-and-basic-rules/session-5-discontinuity/MIT18_01SCF10_ex05prb.pdf)"
   ]
  },
  {
   "cell_type": "markdown",
   "metadata": {},
   "source": [
    "For which of the following should one use a one-sided limit? In each case, evaluate the one- or two-sided limit."
   ]
  },
  {
   "cell_type": "markdown",
   "metadata": {},
   "source": [
    "$$\\lim_{x \\to 0} \\sqrt{x}$$\n",
    "\n",
    "$$\\lim_{x \\to -1} \\frac{1}{x+1}$$\n",
    "\n",
    "$$\\lim_{x \\to 1} \\frac{1}{(x-1)^4}$$\n",
    "\n",
    "$$\\lim_{x \\to 0} \\left\\vert \\sin x \\right\\vert$$\n",
    "\n",
    "$$\\lim_{x \\to 0} \\frac{\\left\\vert x \\right\\vert}{x}$$"
   ]
  }
 ],
 "metadata": {
  "kernelspec": {
   "display_name": "Python 3",
   "language": "python",
   "name": "python3"
  },
  "language_info": {
   "codemirror_mode": {
    "name": "ipython",
    "version": 3
   },
   "file_extension": ".py",
   "mimetype": "text/x-python",
   "name": "python",
   "nbconvert_exporter": "python",
   "pygments_lexer": "ipython3",
   "version": "3.6.3"
  }
 },
 "nbformat": 4,
 "nbformat_minor": 2
}
