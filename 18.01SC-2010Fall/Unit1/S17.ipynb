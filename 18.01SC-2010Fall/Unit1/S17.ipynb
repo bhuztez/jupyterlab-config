{
 "cells": [
  {
   "cell_type": "markdown",
   "metadata": {},
   "source": [
    "# Session 17: The Exponential Function, its Derivative, and its Inverse"
   ]
  },
  {
   "cell_type": "markdown",
   "metadata": {},
   "source": [
    "What si M(a)? beg the question\n",
    "\n",
    "Circuitous\n",
    "\n",
    "define base e as the unique number so that M(e) = 1\n",
    "\n",
    "$$\\frac{\\mathrm{d}}{\\mathrm{d}x}e^x = e^x$$\n",
    "\n",
    "$$\\frac{\\mathrm{d}}{\\mathrm{d}x}e^x\\mid_{x=0} = 1$$\n",
    "\n",
    "slope 1 at $x=0$\n",
    "\n",
    "$$f(x) = 2^x, f'(0) = M(2)$$\n",
    "\n",
    "stretch by k\n",
    "\n",
    "$$f(kx) = 2^{kx} = (2^k)^x = b^x$$\n",
    "\n",
    "$$b = 2^k$$\n",
    "\n",
    "$$\\frac{\\mathrm{d}}{\\mathrm{d}x}b^x = \\frac{\\mathrm{d}}{\\mathrm{d}x}f(kx)  = kf'(kx)$$\n",
    "\n",
    "$$\\frac{\\mathrm{d}}{\\mathrm{d}x}b^x\\mid_{x=0} = kf'(0) = kM(2)$$\n",
    "\n",
    "$$b = e, k = \\frac{1}{M(2)}$$\n",
    "\n",
    "NATURAL LOG\n",
    "\n",
    "logarithm of x\n",
    "\n",
    "$$w = \\ln x$$\n",
    "\n",
    "$$y = e^x \\Leftrightarrow \\ln y = x$$\n",
    "\n",
    "To find \n",
    "\n",
    "$$\\frac{\\mathrm{d}}{\\mathrm{d}x} \\ln x $$\n",
    "\n",
    "use implicit diff\n",
    "\n",
    "$$w = \\ln x \\Rightarrow e^w = x$$\n",
    "\n",
    "$$\\frac{\\mathrm{d}}{\\mathrm{d}x} e^w = \\frac{\\mathrm{d}}{\\mathrm{d}x} x = 1 $$\n",
    "\n",
    "$$\\frac{\\mathrm{d}}{\\mathrm{d}w} e^w \\frac{\\mathrm{d}w}{\\mathrm{d}x} = 1$$\n",
    "\n",
    "$$\\frac{\\mathrm{d}w}{\\mathrm{d}x} = \\frac{1}{e^w} = \\frac{1}{x}$$\n",
    "\n",
    "To differentiate any exponential: two methods\n",
    "\n",
    "Method 1:\n",
    "\n",
    "$$\\frac{\\mathrm{d}}{\\mathrm{d}x} a^x$$\n",
    "\n",
    "use base e\n",
    "\n",
    "$$a^x = (e^{\\ln a})^x = e^{x\\ln a}$$\n",
    "\n",
    "$$\\frac{\\mathrm{d}}{\\mathrm{d}x} a^x = \\frac{\\mathrm{d}}{\\mathrm{d}x} e^{x\\ln a} = (\\ln a) \\cdot e^{x\\ln a} = (\\ln a) \\cdot a^x $$"
   ]
  }
 ],
 "metadata": {
  "kernelspec": {
   "display_name": "Python 3",
   "language": "python",
   "name": "python3"
  },
  "language_info": {
   "codemirror_mode": {
    "name": "ipython",
    "version": 3
   },
   "file_extension": ".py",
   "mimetype": "text/x-python",
   "name": "python",
   "nbconvert_exporter": "python",
   "pygments_lexer": "ipython3",
   "version": "3.6.3"
  }
 },
 "nbformat": 4,
 "nbformat_minor": 2
}
