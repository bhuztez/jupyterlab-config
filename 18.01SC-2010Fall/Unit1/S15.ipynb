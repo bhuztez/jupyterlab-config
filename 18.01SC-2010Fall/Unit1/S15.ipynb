{
 "cells": [
  {
   "cell_type": "markdown",
   "metadata": {},
   "source": [
    "# Session 15: Implicit Differentiation and Inverse Functions "
   ]
  },
  {
   "cell_type": "markdown",
   "metadata": {},
   "source": [
    "Ex\n",
    "\n",
    "square root of x\n",
    "\n",
    "$$y = \\sqrt{x}, x > 0, y^2 = x$$\n",
    "\n",
    "$$f(x) = \\sqrt{x}, g(y) = x, g(y) = y^2$$\n",
    "\n",
    "IN GENERAL\n",
    "\n",
    "$$y = f(x), g(y) = x$$\n",
    "\n",
    "$$g(f(x)) = x, g = f^{-1}$$\n",
    "\n",
    "$$f = g^{-1}$$\n",
    "\n",
    "Example\n",
    "\n",
    "$$y = \\arctan x$$\n",
    "\n",
    "$$\\tan y = x$$\n",
    "\n",
    "$$\\lim_{x \\to \\infty} \\arctan x = \\frac{\\pi}{2}$$\n",
    "\n",
    "$$\\frac{\\mathrm{d}}{\\mathrm{d}y} \\tan y = \\frac{\\mathrm{d}}{\\mathrm{d}y} \\frac{\\sin y}{\\cos y} $$\n",
    "\n",
    "$$= \\frac{1}{\\cos^2 y} = \\sec^2 y$$\n",
    "\n",
    "$$\\frac{\\mathrm{d}}{\\mathrm{d}y} (\\tan y = x)$$\n",
    "\n",
    "$$\\frac{1}{\\cos^2 y} y' = 1$$\n",
    "\n",
    "$$y' = \\cos^2 y$$\n",
    "\n",
    "$$\\frac{\\mathrm{d}}{\\mathrm{d}x} \\arctan x = \\cos^2(\\arctan x)$$\n",
    "\n",
    "$$ = \\frac{1}{1+x^2}$$"
   ]
  },
  {
   "cell_type": "markdown",
   "metadata": {},
   "source": [
    "$$y = \\arcsin x$$\n",
    "\n",
    "$$\\sin y = x$$\n",
    "\n",
    "$$(\\cos y) y' = 1$$\n",
    "\n",
    "$$y' = \\frac{1}{\\cos y} = \\frac{1}{\\sqrt{1-x^2}}$$\n",
    "\n"
   ]
  }
 ],
 "metadata": {
  "kernelspec": {
   "display_name": "Python 3",
   "language": "python",
   "name": "python3"
  },
  "language_info": {
   "codemirror_mode": {
    "name": "ipython",
    "version": 3
   },
   "file_extension": ".py",
   "mimetype": "text/x-python",
   "name": "python",
   "nbconvert_exporter": "python",
   "pygments_lexer": "ipython3",
   "version": "3.6.3"
  }
 },
 "nbformat": 4,
 "nbformat_minor": 2
}
