{
 "cells": [
  {
   "cell_type": "markdown",
   "metadata": {},
   "source": [
    "# Session 16: The Derivative of a^x "
   ]
  },
  {
   "cell_type": "markdown",
   "metadata": {},
   "source": [
    "EXPONENTIALS + LOGRITHMS\n",
    "\n",
    "base $a>0$\n",
    "\n",
    "a to the power n\n",
    "\n",
    "Goal\n",
    "\n",
    "$$\\frac{\\mathrm{d}}{\\mathrm{d}x} a^x = ?$$\n",
    "\n",
    "$$\\lim_{\\Delta x \\to 0} \\frac{a^{x+\\Delta x} - a^x}{\\Delta x} $$\n",
    "\n",
    "$$= \\lim_{\\Delta x \\to 0} a^x \\frac{a^{\\Delta x}-1}{\\Delta x}$$\n",
    "\n",
    "$$ = a^x \\lim_{\\Delta x \\to 0} \\frac{a^{\\Delta x}-1}{\\Delta x} $$\n",
    "\n",
    "defn of M(a)\n",
    "\n",
    "$$M(a) = \\lim_{\\Delta x \\to 0} \\frac{a^{\\Delta x}-1}{\\Delta x}$$\n",
    "\n",
    "$$\\frac{\\mathrm{d}}{\\mathrm{d}x} a^x = M(a) a^x$$\n",
    "\n",
    "$$\\frac{\\mathrm{d}}{\\mathrm{d}x} a^x \\mid_{x=0} = M(a) a^0 = M(a)$$\n",
    "\n",
    "M(a) is the slop of $a^x$ at $x = 0$"
   ]
  }
 ],
 "metadata": {
  "kernelspec": {
   "display_name": "Python 3",
   "language": "python",
   "name": "python3"
  },
  "language_info": {
   "codemirror_mode": {
    "name": "ipython",
    "version": 3
   },
   "file_extension": ".py",
   "mimetype": "text/x-python",
   "name": "python",
   "nbconvert_exporter": "python",
   "pygments_lexer": "ipython3",
   "version": "3.6.3"
  }
 },
 "nbformat": 4,
 "nbformat_minor": 2
}
