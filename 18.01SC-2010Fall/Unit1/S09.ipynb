{
 "cells": [
  {
   "cell_type": "markdown",
   "metadata": {},
   "source": [
    "# Session 9: Product Rule"
   ]
  },
  {
   "cell_type": "markdown",
   "metadata": {},
   "source": [
    "## Clip 1: Introduction of Product and Quotient Rules"
   ]
  },
  {
   "cell_type": "code",
   "execution_count": null,
   "metadata": {},
   "outputs": [],
   "source": [
    "YouTubeVideo('kCPVBl953eY', start=2835, end=2995)"
   ]
  },
  {
   "cell_type": "markdown",
   "metadata": {},
   "source": [
    "[Accompanying Notes (PDF)](https://ocw.mit.edu/courses/mathematics/18-01sc-single-variable-calculus-fall-2010/1.-differentiation/part-a-definition-and-basic-rules/session-9-product-rule/MIT18_01SCF10_Ses9a.pdf)"
   ]
  },
  {
   "cell_type": "markdown",
   "metadata": {},
   "source": [
    "GENERAL DERIV RULES\n",
    "\n",
    "PRODUCT RULE:\n",
    "\n",
    "if you take the product of two functions and differentiate them, you get the derivative of one times the other plus the other times the derivative of the one\n",
    "\n",
    "$$(uv)' = u'v + uv'$$\n",
    "\n",
    "change one at a time\n",
    "\n",
    "QUOTIENT RULE\n",
    "\n",
    "u divided by v prime has a formula as well\n",
    "\n",
    "\n",
    "$$(u/v)' = \\frac{u'v - uv'}{v^2}$$\n",
    "\n",
    "$$v \\neq 0$$"
   ]
  },
  {
   "cell_type": "markdown",
   "metadata": {},
   "source": [
    "## Clip 2: Introduction to General Rules for Differentiation"
   ]
  },
  {
   "cell_type": "code",
   "execution_count": null,
   "metadata": {},
   "outputs": [],
   "source": [
    "YouTubeVideo('4sTKcvYMNxk', start=20, end=149)"
   ]
  },
  {
   "cell_type": "markdown",
   "metadata": {},
   "source": [
    "[Accompanying Notes (PDF)](https://ocw.mit.edu/courses/mathematics/18-01sc-single-variable-calculus-fall-2010/1.-differentiation/part-a-definition-and-basic-rules/session-9-product-rule/MIT18_01SCF10_Ses9b.pdf)"
   ]
  },
  {
   "cell_type": "markdown",
   "metadata": {},
   "source": [
    "## Clip 3: Product Rule"
   ]
  },
  {
   "cell_type": "code",
   "execution_count": null,
   "metadata": {},
   "outputs": [],
   "source": [
    "YouTubeVideo('4sTKcvYMNxk', start=149, end=683)"
   ]
  },
  {
   "cell_type": "markdown",
   "metadata": {},
   "source": [
    "[Accompanying Notes (PDF)](https://ocw.mit.edu/courses/mathematics/18-01sc-single-variable-calculus-fall-2010/1.-differentiation/part-a-definition-and-basic-rules/session-9-product-rule/MIT18_01SCF10_Ses9c.pdf)"
   ]
  },
  {
   "cell_type": "markdown",
   "metadata": {},
   "source": [
    "$$(uv)' = u'v + uv'$$\n",
    "\n",
    "\n",
    "$$\\frac{\\mathrm{d}}{\\mathrm{d}x}\\left( x^n \\sin(x) \\right) = nx^{n-1}\\sin(x) + x^n \\cos(x)$$\n",
    "\n",
    "pf $\\Delta(uv)$\n",
    "\n",
    "$$= u(x + \\Delta x)v(x + \\Delta x) - u(x)v(x)$$\n",
    "\n",
    "$$= (u(x + \\Delta x) - u(x))v(x + \\Delta x) + u(x)(v(x+\\Delta x)- v(x))$$\n",
    "\n",
    "$$= \\Delta u(x + \\Delta x) + u(x) \\Delta v$$\n",
    "\n",
    "$$\\frac{\\Delta(uv)}{\\Delta x}$$\n",
    "\n",
    "$$= \\frac{\\Delta u}{\\Delta x}v(x + \\Delta x) + u \\frac{\\Delta v}{\\Delta x}$$\n",
    "\n",
    "$\\Delta x \\to 0$\n",
    "\n",
    "$$= \\frac{\\mathrm{d}(uv)}{\\mathrm{d}x} = \\frac{\\mathrm{d}u}{\\mathrm{d}x} v + u \\frac{\\mathrm{d}v}{\\mathrm{d}x} $$"
   ]
  },
  {
   "cell_type": "markdown",
   "metadata": {},
   "source": [
    "## Recitation"
   ]
  },
  {
   "cell_type": "code",
   "execution_count": null,
   "metadata": {},
   "outputs": [],
   "source": [
    "YouTubeVideo('55ncRlBZstA')"
   ]
  },
  {
   "cell_type": "markdown",
   "metadata": {},
   "source": [
    "$$(uv)' = u'v + v'u$$\n",
    "\n",
    "$$(uvw)' = u'vw + (vw)'u$$\n",
    "\n",
    "$$ = u'vw + v'uw + w'uv$$\n",
    "\n",
    "Ex:\n",
    "\n",
    "$$f(x) = x^2 \\sin x \\cos x$$\n",
    "\n",
    "Find $f'(x)$\n",
    "\n",
    "$$f'(x) = 2x \\sin x \\cos x + \\cos x \\cdot x^2 \\cos x - \\sin x \\cdot x^2 \\sin x$$\n",
    "\n",
    "$$ = 2x \\sin x \\cos x + x^2 \\cos^2 x - x^2 \\sin^2 x$$"
   ]
  },
  {
   "cell_type": "markdown",
   "metadata": {},
   "source": [
    "## Worked Example"
   ]
  },
  {
   "cell_type": "markdown",
   "metadata": {},
   "source": [
    "[Problem (PDF)](https://ocw.mit.edu/courses/mathematics/18-01sc-single-variable-calculus-fall-2010/1.-differentiation/part-a-definition-and-basic-rules/session-9-product-rule/MIT18_01SCF10_ex09prb.pdf)"
   ]
  },
  {
   "cell_type": "markdown",
   "metadata": {},
   "source": [
    "For each of the following, find all values of a and b for which $f(x)$ is differentiable.\n",
    "\n",
    "$$f(x) = \\begin{cases}\n",
    "ax^2 + bx + 6, x \\le 0; \\\\\n",
    "2x^5+3x^4+4x^2+5x+6, x > 0 \\\\\n",
    "\\end{cases}$$\n",
    "\n",
    "$$f(x) = \\begin{cases}\n",
    "ax^2 + bx + 6, x \\le 1; \\\\\n",
    "2x^5+3x^4+4x^2+5x+6, x > 1 \\\\\n",
    "\\end{cases}$$"
   ]
  }
 ],
 "metadata": {
  "kernelspec": {
   "display_name": "Python 3",
   "language": "python",
   "name": "python3"
  },
  "language_info": {
   "codemirror_mode": {
    "name": "ipython",
    "version": 3
   },
   "file_extension": ".py",
   "mimetype": "text/x-python",
   "name": "python",
   "nbconvert_exporter": "python",
   "pygments_lexer": "ipython3",
   "version": "3.6.3"
  }
 },
 "nbformat": 4,
 "nbformat_minor": 2
}
