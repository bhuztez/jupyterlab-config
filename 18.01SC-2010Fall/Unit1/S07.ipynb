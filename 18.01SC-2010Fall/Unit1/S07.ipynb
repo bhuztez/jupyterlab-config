{
 "cells": [
  {
   "cell_type": "markdown",
   "metadata": {},
   "source": [
    "# Session 7: Derivatives of Sine and Cosine"
   ]
  },
  {
   "cell_type": "markdown",
   "metadata": {},
   "source": [
    "## Clip 1: Derivative of sin(x), Algebraic Proof"
   ]
  },
  {
   "cell_type": "code",
   "execution_count": null,
   "metadata": {},
   "outputs": [],
   "source": [
    "YouTubeVideo('kCPVBl953eY', start=135, end=510)"
   ]
  },
  {
   "cell_type": "markdown",
   "metadata": {},
   "source": [
    "[Accompanying Notes (PDF)](https://ocw.mit.edu/courses/mathematics/18-01sc-single-variable-calculus-fall-2010/1.-differentiation/part-a-definition-and-basic-rules/session-7-derivatives-of-sine-and-cosine/MIT18_01SCF10_Ses7a.pdf)"
   ]
  },
  {
   "cell_type": "markdown",
   "metadata": {},
   "source": [
    "specific\n",
    "\n",
    "$\\frac{\\mathrm{d}}{\\mathrm{d}x}\\sin x = \\cos x$\n",
    "\n",
    "$$\\sin(a+b) = \\sin a \\cos b + \\cos a \\sin b$$\n",
    "\n",
    "\n",
    "$$\\frac{\\sin(x+\\Delta x) - \\sin(x)}{\\Delta x} $$\n",
    "\n",
    "$$ = \\frac{\\sin x \\cos \\Delta x + \\cos x \\sin \\Delta x - \\sin(x)}{\\Delta x} $$\n",
    "\n",
    "$$ = \\sin x \\left(\\frac{\\cos \\Delta x - 1 }{\\Delta x}\\right) + \\cos x \\left(\\frac{\\sin \\Delta x}{\\Delta x}\\right) $$\n",
    "\n",
    "$\\Delta x \\to 0$\n",
    "\n",
    "$$ = \\cos x$$"
   ]
  },
  {
   "cell_type": "markdown",
   "metadata": {},
   "source": [
    "## Clip 2: Derivative of cos(x)"
   ]
  },
  {
   "cell_type": "code",
   "execution_count": null,
   "metadata": {},
   "outputs": [],
   "source": [
    "YouTubeVideo('kCPVBl953eY', start=510, end=908)"
   ]
  },
  {
   "cell_type": "markdown",
   "metadata": {},
   "source": [
    "[Accompanying Notes (PDF)](https://ocw.mit.edu/courses/mathematics/18-01sc-single-variable-calculus-fall-2010/1.-differentiation/part-a-definition-and-basic-rules/session-7-derivatives-of-sine-and-cosine/MIT18_01SCF10_Ses7b.pdf)"
   ]
  },
  {
   "cell_type": "markdown",
   "metadata": {},
   "source": [
    "$\\frac{\\mathrm{d}}{\\mathrm{d}x}\\cos x = - \\sin x$\n",
    "\n",
    "$\\cos(a+b) = \\cos a \\cos b - \\sin a \\sin b$\n",
    "\n",
    "$$\\frac{\\cos(x+\\Delta x) - \\cos x}{\\Delta x}$$\n",
    "\n",
    "$$ = \\frac{\\cos x \\cos \\Delta x - \\sin x \\sin \\Delta x - \\cos x}{\\Delta x}$$\n",
    "\n",
    "$$ = \\cos x \\left(\\frac{\\cos \\Delta x -1}{\\Delta x}\\right)-\\sin x \\left( \\frac{\\sin \\Delta x}{\\Delta x} \\right)$$\n",
    "\n",
    "$\\Delta x \\to 0$\n",
    "\n",
    "$$ = - \\sin x$$"
   ]
  },
  {
   "cell_type": "markdown",
   "metadata": {},
   "source": [
    "Remarks\n",
    "\n",
    "$$\\frac{\\mathrm{d}}{\\mathrm{d}x}\\cos x \\mid_{x=0}= \\lim_{\\Delta x \\to 0} \\frac{\\cos \\Delta x -1}{\\Delta x} = 0 $$\n",
    "\n",
    "$$\\frac{\\mathrm{d}}{\\mathrm{d}x}\\sin x \\mid_{x=0}= \\lim_{\\Delta x \\to 0} \\frac{\\sin \\Delta x}{\\Delta x} = 1 $$\n",
    "\n",
    "Derivatives of sin and cos at x = 0\n",
    "\n",
    "give all values of $\\frac{\\mathrm{d}}{\\mathrm{d}x}\\sin x$,\n",
    "$\\frac{\\mathrm{d}}{\\mathrm{d}x}\\cos x$"
   ]
  },
  {
   "cell_type": "markdown",
   "metadata": {},
   "source": [
    "## Recitation"
   ]
  },
  {
   "cell_type": "code",
   "execution_count": null,
   "metadata": {},
   "outputs": [],
   "source": [
    "YouTubeVideo('Bb-bgJdOqig')"
   ]
  },
  {
   "cell_type": "markdown",
   "metadata": {},
   "source": [
    "Let $h(x) = \\sin x + \\sqrt{3} \\cos x$\n",
    "\n",
    "For which values x does $h'(x) = 0$\n",
    "\n",
    "$$h'(x) = \\frac{\\mathrm{d}}{\\mathrm{d}x}(\\sin x) + \\frac{\\mathrm{d}}{\\mathrm{d}x}(\\sqrt{3} \\cos x) $$\n",
    "\n",
    "$$h'(x) = \\cos x - \\sqrt{3} \\sin x $$\n",
    "\n",
    "wnat to solve $\\cos x - \\sqrt{3} \\sin x = 0$\n",
    "\n",
    "$$1 = \\sqrt{3} \\frac{\\sin x}{\\cos x}$$\n",
    "\n",
    "$$\\tan x = \\frac{1}{\\sqrt{3}}$$\n",
    "\n",
    "$$x = \\frac{\\pi}{6}$$"
   ]
  },
  {
   "cell_type": "markdown",
   "metadata": {},
   "source": [
    "$$h(x) = 2 (\\frac{1}{2} \\sin x + \\frac{\\sqrt{3}}{2} \\cos x)$$\n",
    "\n",
    "$$ = 2 (\\cos \\frac{\\pi}{3} \\sin x + \\sin \\frac{\\pi}{3} \\cos x)$$\n",
    "\n",
    "$$ = 2 \\sin(x+\\frac{\\pi}{3})$$\n",
    "\n"
   ]
  },
  {
   "cell_type": "markdown",
   "metadata": {},
   "source": [
    "## Worked Example"
   ]
  },
  {
   "cell_type": "markdown",
   "metadata": {},
   "source": [
    "[Problem (PDF)](https://ocw.mit.edu/courses/mathematics/18-01sc-single-variable-calculus-fall-2010/1.-differentiation/part-a-definition-and-basic-rules/session-7-derivatives-of-sine-and-cosine/MIT18_01SCF10_ex07prb.pdf)"
   ]
  }
 ],
 "metadata": {
  "kernelspec": {
   "display_name": "Python 3",
   "language": "python",
   "name": "python3"
  },
  "language_info": {
   "codemirror_mode": {
    "name": "ipython",
    "version": 3
   },
   "file_extension": ".py",
   "mimetype": "text/x-python",
   "name": "python",
   "nbconvert_exporter": "python",
   "pygments_lexer": "ipython3",
   "version": "3.6.3"
  }
 },
 "nbformat": 4,
 "nbformat_minor": 2
}
