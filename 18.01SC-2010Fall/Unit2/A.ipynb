{
 "cells": [
  {
   "cell_type": "markdown",
   "metadata": {},
   "source": [
    "# Part A: Approximation and Curve Sketching"
   ]
  },
  {
   "cell_type": "markdown",
   "metadata": {},
   "source": [
    "LINEAR APPROXIMATIONS\n",
    "\n",
    "$$f(x) \\approx f(x_0) + f'(x_0)(x - x_0) $$\n",
    "\n",
    "Example\n",
    "\n",
    "$$f(x) = \\ln x, f'(x) = \\frac{1}{x}$$\n",
    "\n",
    "$$x_0 = 1, f(1) = \\ln 1 = 0, f'(1) = 1$$\n",
    "\n",
    "$$\\ln x \\approx 0 + 1 \\cdot (x-1)$$\n",
    "\n",
    "$$\\ln x \\approx x - 1$$"
   ]
  },
  {
   "cell_type": "markdown",
   "metadata": {},
   "source": [
    "$$f'(x_0) = \\lim_{\\Delta x \\to 0}\\frac{\\Delta f}{\\Delta x}$$\n",
    "\n",
    "$$\\lim_{\\Delta x \\to 0}\\frac{\\Delta f}{\\Delta x} = f'(x_0)$$\n",
    "\n",
    "$$\\frac{\\Delta f}{\\Delta x} \\approx f'(x_0)$$\n",
    "\n",
    "$$\\Delta f \\approx f'(x_0) \\Delta x$$\n",
    "\n",
    "$$f(x) - f(x_0) \\approx f'(x_0)(x - x_0)$$\n",
    "\n",
    "$$f(x) \\approx f(x_0) + f'(x_0)(x - x_0) $$"
   ]
  },
  {
   "cell_type": "markdown",
   "metadata": {},
   "source": [
    "QUADRATIC APPROXIMATION\n",
    "\n",
    "$$f(x) \\approx f(x_0) + f'(x_0)(x - x_0) + \\frac{f''(x_0)}{2}(x-x_0)^2 $$\n",
    "\n",
    "$$f(x) = a + bx + c^2$$\n",
    "\n",
    "$$f'(x) = b + 2cx$$\n",
    "\n",
    "$$f''(x) = 2c$$\n",
    "\n",
    "recover a, b, c\n",
    "\n",
    "$$f(0) = a$$\n",
    "\n",
    "$$f'(0) = b$$\n",
    "\n",
    "$$\\frac{1}{2}f''(0) = c$$\n",
    "\n"
   ]
  }
 ],
 "metadata": {
  "kernelspec": {
   "display_name": "Python 3",
   "language": "python",
   "name": "python3"
  },
  "language_info": {
   "codemirror_mode": {
    "name": "ipython",
    "version": 3
   },
   "file_extension": ".py",
   "mimetype": "text/x-python",
   "name": "python",
   "nbconvert_exporter": "python",
   "pygments_lexer": "ipython3",
   "version": "3.6.3"
  }
 },
 "nbformat": 4,
 "nbformat_minor": 2
}
