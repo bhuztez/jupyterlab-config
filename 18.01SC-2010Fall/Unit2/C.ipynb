{
 "cells": [
  {
   "cell_type": "markdown",
   "metadata": {},
   "source": [
    "# Part C: Mean Value Theorem, Antiderivatives and Differential Equations"
   ]
  },
  {
   "cell_type": "markdown",
   "metadata": {},
   "source": [
    "MEAN VALUE THEOREM\n",
    "\n",
    "\n",
    "$$\\frac{f(b) - f(a)}{b-a} = f'(c)$$\n",
    "\n",
    "for some c, a < c < b\n",
    "\n",
    "provided f is differentiable in $(a,b)$ and continuous in $[a,b]$"
   ]
  },
  {
   "cell_type": "markdown",
   "metadata": {},
   "source": [
    "DIFFERENTIALS\n",
    "\n",
    "$$\\mathrm{d}y = f'(x) \\mathrm{d}x$$\n",
    "\n"
   ]
  },
  {
   "cell_type": "markdown",
   "metadata": {},
   "source": [
    "ANTIDERIVATIVES\n",
    "\n",
    "$$G(x) = \\int g(x) \\mathrm{d} x$$\n",
    "\n",
    "\n",
    "$$\\int \\sin x \\mathrm{d} x = - \\cos x + c$$\n",
    "\n",
    "If F'= G' then F = G + c"
   ]
  },
  {
   "cell_type": "markdown",
   "metadata": {},
   "source": [
    "$$\\int x^3(x^4+2)^5 \\mathrm{d} x$$\n",
    "\n",
    "$$u = x^4 + 2$$\n",
    "\n",
    "$$\\mathrm{d} u = 4x^3 \\mathrm{d} x$$\n",
    "\n",
    "$$\\int x^3(x^4+2)^5 \\mathrm{d} x$$\n",
    "\n",
    "$$= \\int u^5 \\frac{1}{4} \\mathrm{d} u$$\n",
    "\n",
    "$$= \\frac{1}{24} u^6 + c$$\n",
    "\n",
    "$$= \\frac{1}{24} (x^4 + 2)^6 + c$$"
   ]
  },
  {
   "cell_type": "markdown",
   "metadata": {},
   "source": [
    "$$\\int \\frac{x \\mathrm{d} x}{\\sqrt{1+x^2}}$$\n",
    "\n",
    "$$u = 1 + x^2$$\n",
    "\n",
    "$$\\mathrm{d} u = 2x \\mathrm{d} x$$"
   ]
  },
  {
   "cell_type": "markdown",
   "metadata": {},
   "source": [
    "$$\\int \\frac{\\mathrm{d} x}{x \\ln x}$$\n",
    "\n",
    "$$u = \\ln x$$\n",
    "\n",
    "$$\\mathrm{d} u = \\frac{\\mathrm{d} x}{x}$$\n",
    "\n",
    "$$\\int \\frac{\\mathrm{d} x}{x \\ln x} = \\int \\frac{\\mathrm{d} u}{u} = \\ln u + c = \\ln (\\ln x) + c$$"
   ]
  },
  {
   "cell_type": "markdown",
   "metadata": {},
   "source": [
    "DIFFERENTIAL EQUATION\n",
    "\n",
    "$$\\frac{\\mathrm{d}y}{\\mathrm{d}x} = f(x)$$\n",
    "\n",
    "$$y = \\int f(x) \\mathrm{d} x$$"
   ]
  },
  {
   "cell_type": "markdown",
   "metadata": {},
   "source": [
    "$$(\\frac{\\mathrm{d}}{\\mathrm{d}x} + x)y = 0$$\n",
    "\n",
    "annihilation operator\n",
    "\n",
    "\n",
    "$$ \\frac{\\mathrm{dy}}{\\mathrm{d}x} = - xy$$\n",
    "\n",
    "$$ \\frac{\\mathrm{dy}}{y} = - x \\mathrm{d} x$$\n",
    "\n",
    "$$ \\int \\frac{\\mathrm{dy}}{y} = - \\int x \\mathrm{d} x$$\n",
    "\n",
    "$$\\ln y = - \\frac{1}{2} x^2 + C$$\n",
    "\n",
    "$$y = e^{-\\frac{x^2}{2}+C}$$"
   ]
  },
  {
   "cell_type": "markdown",
   "metadata": {},
   "source": [
    "SEPARATION OF VARIABLES\n"
   ]
  }
 ],
 "metadata": {
  "kernelspec": {
   "display_name": "Python 3",
   "language": "python",
   "name": "python3"
  },
  "language_info": {
   "codemirror_mode": {
    "name": "ipython",
    "version": 3
   },
   "file_extension": ".py",
   "mimetype": "text/x-python",
   "name": "python",
   "nbconvert_exporter": "python",
   "pygments_lexer": "ipython3",
   "version": "3.6.3"
  }
 },
 "nbformat": 4,
 "nbformat_minor": 2
}
