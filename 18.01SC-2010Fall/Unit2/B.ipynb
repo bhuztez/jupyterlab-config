{
 "cells": [
  {
   "cell_type": "markdown",
   "metadata": {},
   "source": [
    "# Part B: Optimization, Related Rates and Newton's Method"
   ]
  },
  {
   "cell_type": "markdown",
   "metadata": {},
   "source": [
    "MAX/MIN PROBLEMS\n",
    "\n",
    "wire length 1, cut into two pieces, each piece enclosed a square\n",
    "\n",
    "find the largest area enclosed\n",
    "\n",
    "$$A = (\\frac{x}{4})^2 + (\\frac{1-x}{4})^2$$\n",
    "\n",
    "Find critical points\n",
    "\n",
    "$$A' = 0$$"
   ]
  },
  {
   "cell_type": "markdown",
   "metadata": {},
   "source": [
    "RELATED RATES\n",
    "\n",
    "$$\\frac{\\mathrm{d}D}{\\mathrm{d}t} = -80$$\n",
    "\n",
    "$$x^2 + 30^2 = D^2$$\n",
    "\n",
    "\n",
    "$$2x\\frac{\\mathrm{d}x}{\\mathrm{d}t} = 2D\\frac{\\mathrm{d}D}{\\mathrm{d}t}$$\n",
    "\n",
    "$$40 \\frac{\\mathrm{d}x}{\\mathrm{d}t} = 50 \\cdot -80$$\n",
    "\n",
    "$$ \\frac{\\mathrm{d}x}{\\mathrm{d}t} = - 100$$"
   ]
  },
  {
   "cell_type": "markdown",
   "metadata": {},
   "source": [
    "NEWTON'S METHOD\n",
    "\n",
    "Solve $x^2 = 5$\n",
    "\n",
    "$$f(x) = x^2 - 5$$\n",
    "\n",
    "$x_1$ is the x-intercept, thus $y_1 = 0$ \n",
    "\n",
    "$$y_1 - y_0 = f'(x_0) \\cdot (x_1 - x_0)$$\n",
    "\n",
    "$$-\\frac{f(x_0)}{f'(x_0)} = x_1 - x_0$$\n",
    "\n",
    "\n",
    "$$x_{n+1} = x_n - \\frac{f(x_n)}{f'(x_n)}$$\n",
    "\n",
    "ERROR ANALYSIS\n",
    "\n",
    "$$E_2 \\sim E_1^2$$"
   ]
  }
 ],
 "metadata": {
  "kernelspec": {
   "display_name": "Python 3",
   "language": "python",
   "name": "python3"
  },
  "language_info": {
   "codemirror_mode": {
    "name": "ipython",
    "version": 3
   },
   "file_extension": ".py",
   "mimetype": "text/x-python",
   "name": "python",
   "nbconvert_exporter": "python",
   "pygments_lexer": "ipython3",
   "version": "3.6.3"
  }
 },
 "nbformat": 4,
 "nbformat_minor": 2
}
